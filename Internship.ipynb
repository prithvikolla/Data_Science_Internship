{
  "nbformat": 4,
  "nbformat_minor": 0,
  "metadata": {
    "colab": {
      "name": "Internship.ipynb",
      "provenance": [],
      "collapsed_sections": []
    },
    "kernelspec": {
      "name": "python3",
      "display_name": "Python 3"
    }
  },
  "cells": [
    {
      "cell_type": "code",
      "metadata": {
        "colab": {
          "base_uri": "https://localhost:8080/"
        },
        "id": "RuoJdAjKMKQW",
        "outputId": "15020e18-c517-4100-9ce4-67171ee597be"
      },
      "source": [
        "# install chromium, its driver, and selenium\n",
        "!apt update\n",
        "!apt install chromium-chromedriver\n",
        "!pip install selenium\n",
        "# set options to be headless, ..\n",
        "from selenium import webdriver\n",
        "options = webdriver.ChromeOptions()\n",
        "options.add_argument('--headless')\n",
        "options.add_argument('--no-sandbox')\n",
        "options.add_argument('--disable-dev-shm-usage')\n",
        "# open it, go to a website, and get results\n",
        "driver = webdriver.Chrome('chromedriver',options=options)\n",
        "import pandas as pd"
      ],
      "execution_count": 1,
      "outputs": [
        {
          "output_type": "stream",
          "text": [
            "\u001b[33m\r0% [Working]\u001b[0m\r            \rGet:1 http://security.ubuntu.com/ubuntu bionic-security InRelease [88.7 kB]\n",
            "\u001b[33m\r0% [Connecting to archive.ubuntu.com (91.189.88.142)] [1 InRelease 14.2 kB/88.7\u001b[0m\r                                                                               \rHit:2 http://ppa.launchpad.net/c2d4u.team/c2d4u4.0+/ubuntu bionic InRelease\n",
            "\u001b[33m\r0% [Waiting for headers] [1 InRelease 43.1 kB/88.7 kB 49%] [Connected to cloud.\u001b[0m\r                                                                               \rHit:3 http://archive.ubuntu.com/ubuntu bionic InRelease\n",
            "\u001b[33m\r0% [Waiting for headers] [1 InRelease 43.1 kB/88.7 kB 49%] [Waiting for headers\u001b[0m\u001b[33m\r0% [2 InRelease gpgv 15.9 kB] [Waiting for headers] [1 InRelease 43.1 kB/88.7 k\u001b[0m\r                                                                               \rHit:4 https://cloud.r-project.org/bin/linux/ubuntu bionic-cran40/ InRelease\n",
            "\u001b[33m\r0% [2 InRelease gpgv 15.9 kB] [Waiting for headers] [1 InRelease 48.9 kB/88.7 k\u001b[0m\r                                                                               \rGet:5 http://archive.ubuntu.com/ubuntu bionic-updates InRelease [88.7 kB]\n",
            "\u001b[33m\r0% [2 InRelease gpgv 15.9 kB] [5 InRelease 14.2 kB/88.7 kB 16%] [1 InRelease 72\u001b[0m\u001b[33m\r0% [2 InRelease gpgv 15.9 kB] [5 InRelease 14.2 kB/88.7 kB 16%] [Waiting for he\u001b[0m\r                                                                               \rHit:6 http://ppa.launchpad.net/graphics-drivers/ppa/ubuntu bionic InRelease\n",
            "\u001b[33m\r0% [2 InRelease gpgv 15.9 kB] [5 InRelease 14.2 kB/88.7 kB 16%] [Waiting for he\u001b[0m\u001b[33m\r                                                                               \r0% [2 InRelease gpgv 15.9 kB] [Waiting for headers] [Waiting for headers]\u001b[0m\r                                                                         \rGet:7 http://archive.ubuntu.com/ubuntu bionic-backports InRelease [74.6 kB]\n",
            "Ign:8 https://developer.download.nvidia.com/compute/cuda/repos/ubuntu1804/x86_64  InRelease\n",
            "Ign:9 https://developer.download.nvidia.com/compute/machine-learning/repos/ubuntu1804/x86_64  InRelease\n",
            "Hit:10 https://developer.download.nvidia.com/compute/cuda/repos/ubuntu1804/x86_64  Release\n",
            "Hit:11 https://developer.download.nvidia.com/compute/machine-learning/repos/ubuntu1804/x86_64  Release\n",
            "Fetched 252 kB in 2s (161 kB/s)\n",
            "Reading package lists... Done\n",
            "Building dependency tree       \n",
            "Reading state information... Done\n",
            "59 packages can be upgraded. Run 'apt list --upgradable' to see them.\n",
            "Reading package lists... Done\n",
            "Building dependency tree       \n",
            "Reading state information... Done\n",
            "chromium-chromedriver is already the newest version (87.0.4280.66-0ubuntu0.18.04.1).\n",
            "0 upgraded, 0 newly installed, 0 to remove and 59 not upgraded.\n",
            "Requirement already satisfied: selenium in /usr/local/lib/python3.6/dist-packages (3.141.0)\n",
            "Requirement already satisfied: urllib3 in /usr/local/lib/python3.6/dist-packages (from selenium) (1.24.3)\n"
          ],
          "name": "stdout"
        }
      ]
    },
    {
      "cell_type": "code",
      "metadata": {
        "colab": {
          "base_uri": "https://localhost:8080/"
        },
        "id": "ov_aWFnN7N8i",
        "outputId": "70c0fbb6-19dd-47be-855d-e1321fceccca"
      },
      "source": [
        "def Movie(searchterm):\n",
        " webpage = \"https://www.rottentomatoes.com/\" \n",
        " driver.get(webpage)\n",
        " l=driver.find_element_by_partial_link_text(searchterm)\n",
        " l.click()\n",
        " window_after = driver.window_handles[0]\n",
        " driver.switch_to.window(window_after)\n",
        " elem = driver.find_element_by_xpath(\"//div[@class='panel-body content_body']/ul\")\n",
        "\n",
        " Movie_Info = [ ]\n",
        " all_li = elem.find_elements_by_tag_name(\"li\")\n",
        " for li in all_li:\n",
        "    text = li.text\n",
        "    Movie_Info.append(text)\n",
        " return Movie_Info\n",
        "\n",
        "searchterm = str (input( \"Enter the Movie:\"))\n",
        "Movie_Info_List = Movie(searchterm)"
      ],
      "execution_count": 11,
      "outputs": [
        {
          "output_type": "stream",
          "text": [
            "Enter the Movie:The Dark Knight\n"
          ],
          "name": "stdout"
        }
      ]
    },
    {
      "cell_type": "code",
      "metadata": {
        "id": "sermghn1KJUy"
      },
      "source": [
        "MovieInfo = pd.DataFrame({'Title': list (Movie_Info_List) })\n"
      ],
      "execution_count": 12,
      "outputs": []
    },
    {
      "cell_type": "code",
      "metadata": {
        "id": "-qKwODkvtZ66"
      },
      "source": [
        "#Data Cleaning\n"
      ],
      "execution_count": 17,
      "outputs": []
    },
    {
      "cell_type": "code",
      "metadata": {
        "id": "9weJHf4zc-DV"
      },
      "source": [
        ""
      ],
      "execution_count": null,
      "outputs": []
    }
  ]
}