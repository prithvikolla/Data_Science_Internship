{
  "nbformat": 4,
  "nbformat_minor": 0,
  "metadata": {
    "colab": {
      "name": "Internship.ipynb",
      "provenance": [],
      "collapsed_sections": []
    },
    "kernelspec": {
      "name": "python3",
      "display_name": "Python 3"
    }
  },
  "cells": [
    {
      "cell_type": "code",
      "metadata": {
        "colab": {
          "base_uri": "https://localhost:8080/"
        },
        "id": "RuoJdAjKMKQW",
        "outputId": "02bd6ec2-0528-4778-a4be-6fdeb0167a37"
      },
      "source": [
        "# install chromium, its driver, and selenium\n",
        "!apt update\n",
        "!apt install chromium-chromedriver\n",
        "!pip install selenium\n",
        "# set options to be headless, ..\n",
        "from selenium import webdriver\n",
        "options = webdriver.ChromeOptions()\n",
        "options.add_argument('--headless')\n",
        "options.add_argument('--no-sandbox')\n",
        "options.add_argument('--disable-dev-shm-usage')\n",
        "# open it, go to a website, and get results\n",
        "driver = webdriver.Chrome('chromedriver',options=options)\n",
        "import pandas as pd\n",
        "import time"
      ],
      "execution_count": 1,
      "outputs": [
        {
          "output_type": "stream",
          "text": [
            "\u001b[33m\r0% [Working]\u001b[0m\r            \rGet:1 http://security.ubuntu.com/ubuntu bionic-security InRelease [88.7 kB]\n",
            "Ign:2 https://developer.download.nvidia.com/compute/cuda/repos/ubuntu1804/x86_64  InRelease\n",
            "Get:3 https://cloud.r-project.org/bin/linux/ubuntu bionic-cran40/ InRelease [3,626 B]\n",
            "Hit:4 http://archive.ubuntu.com/ubuntu bionic InRelease\n",
            "Get:5 http://ppa.launchpad.net/c2d4u.team/c2d4u4.0+/ubuntu bionic InRelease [15.9 kB]\n",
            "Ign:6 https://developer.download.nvidia.com/compute/machine-learning/repos/ubuntu1804/x86_64  InRelease\n",
            "Get:7 https://developer.download.nvidia.com/compute/cuda/repos/ubuntu1804/x86_64  Release [697 B]\n",
            "Get:8 https://developer.download.nvidia.com/compute/machine-learning/repos/ubuntu1804/x86_64  Release [564 B]\n",
            "Get:9 https://developer.download.nvidia.com/compute/cuda/repos/ubuntu1804/x86_64  Release.gpg [836 B]\n",
            "Get:10 https://developer.download.nvidia.com/compute/machine-learning/repos/ubuntu1804/x86_64  Release.gpg [833 B]\n",
            "Get:11 http://archive.ubuntu.com/ubuntu bionic-updates InRelease [88.7 kB]\n",
            "Get:12 http://ppa.launchpad.net/graphics-drivers/ppa/ubuntu bionic InRelease [21.3 kB]\n",
            "Get:13 http://security.ubuntu.com/ubuntu bionic-security/restricted amd64 Packages [237 kB]\n",
            "Get:14 http://security.ubuntu.com/ubuntu bionic-security/universe amd64 Packages [1,372 kB]\n",
            "Get:15 http://archive.ubuntu.com/ubuntu bionic-backports InRelease [74.6 kB]\n",
            "Get:16 http://security.ubuntu.com/ubuntu bionic-security/main amd64 Packages [1,816 kB]\n",
            "Get:17 http://security.ubuntu.com/ubuntu bionic-security/multiverse amd64 Packages [15.3 kB]\n",
            "Get:18 https://cloud.r-project.org/bin/linux/ubuntu bionic-cran40/ Packages [40.7 kB]\n",
            "Ign:19 https://developer.download.nvidia.com/compute/cuda/repos/ubuntu1804/x86_64  Packages\n",
            "Get:19 https://developer.download.nvidia.com/compute/cuda/repos/ubuntu1804/x86_64  Packages [506 kB]\n",
            "Get:20 https://developer.download.nvidia.com/compute/machine-learning/repos/ubuntu1804/x86_64  Packages [66.1 kB]\n",
            "Get:21 http://ppa.launchpad.net/c2d4u.team/c2d4u4.0+/ubuntu bionic/main Sources [1,699 kB]\n",
            "Get:22 http://archive.ubuntu.com/ubuntu bionic-updates/restricted amd64 Packages [266 kB]\n",
            "Get:23 http://archive.ubuntu.com/ubuntu bionic-updates/universe amd64 Packages [2,136 kB]\n",
            "Get:24 http://archive.ubuntu.com/ubuntu bionic-updates/multiverse amd64 Packages [53.8 kB]\n",
            "Get:25 http://archive.ubuntu.com/ubuntu bionic-updates/main amd64 Packages [2,244 kB]\n",
            "Get:26 http://ppa.launchpad.net/c2d4u.team/c2d4u4.0+/ubuntu bionic/main amd64 Packages [870 kB]\n",
            "Get:27 http://ppa.launchpad.net/graphics-drivers/ppa/ubuntu bionic/main amd64 Packages [46.5 kB]\n",
            "Fetched 11.7 MB in 3s (3,542 kB/s)\n",
            "Reading package lists... Done\n",
            "Building dependency tree       \n",
            "Reading state information... Done\n",
            "59 packages can be upgraded. Run 'apt list --upgradable' to see them.\n",
            "Reading package lists... Done\n",
            "Building dependency tree       \n",
            "Reading state information... Done\n",
            "The following additional packages will be installed:\n",
            "  chromium-browser chromium-browser-l10n chromium-codecs-ffmpeg-extra\n",
            "Suggested packages:\n",
            "  webaccounts-chromium-extension unity-chromium-extension adobe-flashplugin\n",
            "The following NEW packages will be installed:\n",
            "  chromium-browser chromium-browser-l10n chromium-chromedriver\n",
            "  chromium-codecs-ffmpeg-extra\n",
            "0 upgraded, 4 newly installed, 0 to remove and 59 not upgraded.\n",
            "Need to get 81.0 MB of archives.\n",
            "After this operation, 273 MB of additional disk space will be used.\n",
            "Get:1 http://archive.ubuntu.com/ubuntu bionic-updates/universe amd64 chromium-codecs-ffmpeg-extra amd64 87.0.4280.66-0ubuntu0.18.04.1 [1,122 kB]\n",
            "Get:2 http://archive.ubuntu.com/ubuntu bionic-updates/universe amd64 chromium-browser amd64 87.0.4280.66-0ubuntu0.18.04.1 [71.7 MB]\n",
            "Get:3 http://archive.ubuntu.com/ubuntu bionic-updates/universe amd64 chromium-browser-l10n all 87.0.4280.66-0ubuntu0.18.04.1 [3,716 kB]\n",
            "Get:4 http://archive.ubuntu.com/ubuntu bionic-updates/universe amd64 chromium-chromedriver amd64 87.0.4280.66-0ubuntu0.18.04.1 [4,488 kB]\n",
            "Fetched 81.0 MB in 3s (24.3 MB/s)\n",
            "Selecting previously unselected package chromium-codecs-ffmpeg-extra.\n",
            "(Reading database ... 144865 files and directories currently installed.)\n",
            "Preparing to unpack .../chromium-codecs-ffmpeg-extra_87.0.4280.66-0ubuntu0.18.04.1_amd64.deb ...\n",
            "Unpacking chromium-codecs-ffmpeg-extra (87.0.4280.66-0ubuntu0.18.04.1) ...\n",
            "Selecting previously unselected package chromium-browser.\n",
            "Preparing to unpack .../chromium-browser_87.0.4280.66-0ubuntu0.18.04.1_amd64.deb ...\n",
            "Unpacking chromium-browser (87.0.4280.66-0ubuntu0.18.04.1) ...\n",
            "Selecting previously unselected package chromium-browser-l10n.\n",
            "Preparing to unpack .../chromium-browser-l10n_87.0.4280.66-0ubuntu0.18.04.1_all.deb ...\n",
            "Unpacking chromium-browser-l10n (87.0.4280.66-0ubuntu0.18.04.1) ...\n",
            "Selecting previously unselected package chromium-chromedriver.\n",
            "Preparing to unpack .../chromium-chromedriver_87.0.4280.66-0ubuntu0.18.04.1_amd64.deb ...\n",
            "Unpacking chromium-chromedriver (87.0.4280.66-0ubuntu0.18.04.1) ...\n",
            "Setting up chromium-codecs-ffmpeg-extra (87.0.4280.66-0ubuntu0.18.04.1) ...\n",
            "Setting up chromium-browser (87.0.4280.66-0ubuntu0.18.04.1) ...\n",
            "update-alternatives: using /usr/bin/chromium-browser to provide /usr/bin/x-www-browser (x-www-browser) in auto mode\n",
            "update-alternatives: using /usr/bin/chromium-browser to provide /usr/bin/gnome-www-browser (gnome-www-browser) in auto mode\n",
            "Setting up chromium-chromedriver (87.0.4280.66-0ubuntu0.18.04.1) ...\n",
            "Setting up chromium-browser-l10n (87.0.4280.66-0ubuntu0.18.04.1) ...\n",
            "Processing triggers for hicolor-icon-theme (0.17-2) ...\n",
            "Processing triggers for mime-support (3.60ubuntu1) ...\n",
            "Processing triggers for man-db (2.8.3-2ubuntu0.1) ...\n",
            "Collecting selenium\n",
            "\u001b[?25l  Downloading https://files.pythonhosted.org/packages/80/d6/4294f0b4bce4de0abf13e17190289f9d0613b0a44e5dd6a7f5ca98459853/selenium-3.141.0-py2.py3-none-any.whl (904kB)\n",
            "\u001b[K     |████████████████████████████████| 911kB 5.9MB/s \n",
            "\u001b[?25hRequirement already satisfied: urllib3 in /usr/local/lib/python3.6/dist-packages (from selenium) (1.24.3)\n",
            "Installing collected packages: selenium\n",
            "Successfully installed selenium-3.141.0\n"
          ],
          "name": "stdout"
        }
      ]
    },
    {
      "cell_type": "code",
      "metadata": {
        "colab": {
          "base_uri": "https://localhost:8080/"
        },
        "id": "ov_aWFnN7N8i",
        "outputId": "9fa36399-4bab-40b4-e27a-9f8fe96af6f9"
      },
      "source": [
        "def Movie(searchterm):\n",
        " webpage = \"https://www.rottentomatoes.com/m/{}\".format(searchterm)\n",
        "#  time.sleep(5)\n",
        " driver.get(webpage)\n",
        "#  l=driver.find_element_by_partial_link_text(searchterm)\n",
        "#  l.click()\n",
        "#  window_after = driver.window_handles[0]\n",
        "#  driver.switch_to.window(window_after)\n",
        " elem = driver.find_element_by_xpath(\"//div[@class='panel-body content_body']/ul\")\n",
        "\n",
        " Movie_Info = [ ]\n",
        " all_li = elem.find_elements_by_tag_name(\"li\")\n",
        " for li in all_li:\n",
        "    text = li.text\n",
        "    Movie_Info.append(text)\n",
        " return Movie_Info\n",
        "Movie_Info_List = [ ]\n",
        "Question1 = input( \"Search Movie Information: Y or N: \")\n",
        "if Question1.lower() == 'y': \n",
        " i = 0\n",
        " n = int (input( \"How many movies do you want to search?: \"))\n",
        " if n > 1:\n",
        "  print('Give all the Movie Names:')\n",
        "  my_list = [] \n",
        "  while (i<n): \n",
        "        my_list.append(str (input())) \n",
        "        i= i+1\n",
        "  my_list = [s.lower() for s in my_list]\n",
        "  my_list = [s.replace(' ','_') for s in my_list]\n",
        "  for j in my_list:\n",
        "   Movie_Info_List.append(Movie(j))\n",
        " else:\n",
        "    searchterm = input(\"Enter the Movie Name: \") \n",
        "    Movie_Info_List.append(Movie(searchterm))\n",
        "else:\n",
        "  print('Thank you.')"
      ],
      "execution_count": 7,
      "outputs": [
        {
          "output_type": "stream",
          "text": [
            "Search Movie Information: Y or N: y\n",
            "How many movies do you want to search?: 3\n",
            "Give all the Movie Names:\n",
            "soul 2020\n",
            "the dark knight\n",
            "blues brothers 2000\n"
          ],
          "name": "stdout"
        }
      ]
    },
    {
      "cell_type": "code",
      "metadata": {
        "colab": {
          "base_uri": "https://localhost:8080/"
        },
        "id": "MoOYNVHG1lZ3",
        "outputId": "f929a591-adb9-42ce-b5c4-a655cc67ce35"
      },
      "source": [
        "result=list(reversed(my_list))\n",
        "result"
      ],
      "execution_count": 8,
      "outputs": [
        {
          "output_type": "execute_result",
          "data": {
            "text/plain": [
              "['blues_brothers_2000', 'the_dark_knight', 'soul_2020']"
            ]
          },
          "metadata": {
            "tags": []
          },
          "execution_count": 8
        }
      ]
    },
    {
      "cell_type": "code",
      "metadata": {
        "id": "sermghn1KJUy",
        "colab": {
          "base_uri": "https://localhost:8080/",
          "height": 519
        },
        "outputId": "b857cc25-eb9b-48a7-80e2-a56687b7dba0"
      },
      "source": [
        "copy = pd.DataFrame()\n",
        "for i in range(len(Movie_Info_List)):\n",
        "   MovieInfo = pd.DataFrame({'Title': list (Movie_Info_List[i])})\n",
        "   MovieInfo['Info'] = MovieInfo['Title'].apply(lambda s: s.split(':')[0])\n",
        "   MovieInfo['Description'] = MovieInfo['Title'].apply(lambda s: s.split(':')[1])\n",
        "   del MovieInfo['Title']\n",
        "   trans = MovieInfo.set_index('Info').transpose()\n",
        "   trans = trans.append(copy, sort=False)\n",
        "   copy = trans\n",
        "   print(i)\n",
        "trans\n",
        "# merge.to_csv(\"movie.csv\",index= False,header=0)\n",
        "# MovieInfo.info()"
      ],
      "execution_count": 9,
      "outputs": [
        {
          "output_type": "stream",
          "text": [
            "0\n",
            "1\n",
            "2\n"
          ],
          "name": "stdout"
        },
        {
          "output_type": "execute_result",
          "data": {
            "text/html": [
              "<div>\n",
              "<style scoped>\n",
              "    .dataframe tbody tr th:only-of-type {\n",
              "        vertical-align: middle;\n",
              "    }\n",
              "\n",
              "    .dataframe tbody tr th {\n",
              "        vertical-align: top;\n",
              "    }\n",
              "\n",
              "    .dataframe thead th {\n",
              "        text-align: right;\n",
              "    }\n",
              "</style>\n",
              "<table border=\"1\" class=\"dataframe\">\n",
              "  <thead>\n",
              "    <tr style=\"text-align: right;\">\n",
              "      <th></th>\n",
              "      <th>Rating</th>\n",
              "      <th>Genre</th>\n",
              "      <th>Original Language</th>\n",
              "      <th>Director</th>\n",
              "      <th>Producer</th>\n",
              "      <th>Release Date (Theaters)</th>\n",
              "      <th>Release Date (Streaming)</th>\n",
              "      <th>Box Office (Gross USA)</th>\n",
              "      <th>Runtime</th>\n",
              "      <th>Production Co</th>\n",
              "      <th>Sound Mix</th>\n",
              "      <th>Aspect Ratio</th>\n",
              "      <th>Writer</th>\n",
              "      <th>View the collection</th>\n",
              "    </tr>\n",
              "  </thead>\n",
              "  <tbody>\n",
              "    <tr>\n",
              "      <th>Description</th>\n",
              "      <td>PG-13 (Some Language|Exotic Dancing)</td>\n",
              "      <td>Comedy, Musical</td>\n",
              "      <td>English</td>\n",
              "      <td>John Landis</td>\n",
              "      <td>Dan Aykroyd, Leslie Belzberg, John Landis</td>\n",
              "      <td>Feb 6, 1998  Wide</td>\n",
              "      <td>Feb 12, 2014</td>\n",
              "      <td>$14.0M</td>\n",
              "      <td>2h 3m</td>\n",
              "      <td>Universal Pictures</td>\n",
              "      <td>Dolby SR, DTS, Dolby Stereo, Surround, SDDS, ...</td>\n",
              "      <td>Flat (1.85</td>\n",
              "      <td>NaN</td>\n",
              "      <td>NaN</td>\n",
              "    </tr>\n",
              "    <tr>\n",
              "      <th>Description</th>\n",
              "      <td>PG-13 (Some Menace|Intense Sequences of Viole...</td>\n",
              "      <td>Fantasy, Adventure, Action</td>\n",
              "      <td>English</td>\n",
              "      <td>Christopher Nolan</td>\n",
              "      <td>Emma Thomas, Charles Roven, Christopher Nolan</td>\n",
              "      <td>Jul 18, 2008  Wide</td>\n",
              "      <td>Jun 14, 2010</td>\n",
              "      <td>$2.0M</td>\n",
              "      <td>2h 32m</td>\n",
              "      <td>Syncopy</td>\n",
              "      <td>DTS, Dolby Digital, SDDS</td>\n",
              "      <td>Scope (2.35</td>\n",
              "      <td>Jonathan Nolan, Christopher Nolan</td>\n",
              "      <td>Batman</td>\n",
              "    </tr>\n",
              "    <tr>\n",
              "      <th>Description</th>\n",
              "      <td>PG (Some Language|Thematic Elements)</td>\n",
              "      <td>Animation, Adventure, Kids And Family, Comedy</td>\n",
              "      <td>English</td>\n",
              "      <td>Pete Docter</td>\n",
              "      <td>Dana Leigh Murray</td>\n",
              "      <td>NaN</td>\n",
              "      <td>Dec 25, 2020</td>\n",
              "      <td>NaN</td>\n",
              "      <td>1h 40m</td>\n",
              "      <td>Pixar Animation Studios, Walt Disney Pictures</td>\n",
              "      <td>Dolby Atmos, Dolby Digital, DTS</td>\n",
              "      <td>Scope (2.35</td>\n",
              "      <td>Pete Docter, Mike Jones, Kemp Powers</td>\n",
              "      <td>Pixar</td>\n",
              "    </tr>\n",
              "  </tbody>\n",
              "</table>\n",
              "</div>"
            ],
            "text/plain": [
              "                                                        Rating  ... View the collection\n",
              "Description               PG-13 (Some Language|Exotic Dancing)  ...                 NaN\n",
              "Description   PG-13 (Some Menace|Intense Sequences of Viole...  ...              Batman\n",
              "Description               PG (Some Language|Thematic Elements)  ...               Pixar\n",
              "\n",
              "[3 rows x 14 columns]"
            ]
          },
          "metadata": {
            "tags": []
          },
          "execution_count": 9
        }
      ]
    },
    {
      "cell_type": "code",
      "metadata": {
        "id": "-qKwODkvtZ66"
      },
      "source": [
        "#Data Cleaning\n",
        "trans.insert(0,'Movie',result)"
      ],
      "execution_count": 10,
      "outputs": []
    },
    {
      "cell_type": "code",
      "metadata": {
        "id": "JIrRE9AMbfYo"
      },
      "source": [
        "trans.to_csv(\"Movie.csv\",index= False)"
      ],
      "execution_count": 12,
      "outputs": []
    },
    {
      "cell_type": "code",
      "metadata": {
        "id": "XkkycHb5FCIP"
      },
      "source": [
        ""
      ],
      "execution_count": null,
      "outputs": []
    }
  ]
}