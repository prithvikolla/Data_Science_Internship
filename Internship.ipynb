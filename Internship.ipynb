{
  "nbformat": 4,
  "nbformat_minor": 0,
  "metadata": {
    "colab": {
      "name": "Internship.ipynb",
      "provenance": [],
      "collapsed_sections": []
    },
    "kernelspec": {
      "name": "python3",
      "display_name": "Python 3"
    }
  },
  "cells": [
    {
      "cell_type": "code",
      "metadata": {
        "colab": {
          "base_uri": "https://localhost:8080/"
        },
        "id": "RuoJdAjKMKQW",
        "outputId": "44630625-1b2e-4b4f-d77d-bfd59fc6e477"
      },
      "source": [
        "# install chromium, its driver, and selenium\n",
        "!apt update\n",
        "!apt install chromium-chromedriver\n",
        "!pip install selenium\n",
        "# set options to be headless, ..\n",
        "from selenium import webdriver\n",
        "options = webdriver.ChromeOptions()\n",
        "options.add_argument('--headless')\n",
        "options.add_argument('--no-sandbox')\n",
        "options.add_argument('--disable-dev-shm-usage')\n",
        "# open it, go to a website, and get results\n",
        "driver = webdriver.Chrome('chromedriver',options=options)\n",
        "import pandas as pd\n",
        "import time"
      ],
      "execution_count": 1,
      "outputs": [
        {
          "output_type": "stream",
          "text": [
            "Ign:1 https://developer.download.nvidia.com/compute/cuda/repos/ubuntu1804/x86_64  InRelease\n",
            "Hit:2 https://cloud.r-project.org/bin/linux/ubuntu bionic-cran40/ InRelease\n",
            "Ign:3 https://developer.download.nvidia.com/compute/machine-learning/repos/ubuntu1804/x86_64  InRelease\n",
            "Hit:4 http://ppa.launchpad.net/c2d4u.team/c2d4u4.0+/ubuntu bionic InRelease\n",
            "Get:5 http://security.ubuntu.com/ubuntu bionic-security InRelease [88.7 kB]\n",
            "Hit:6 https://developer.download.nvidia.com/compute/cuda/repos/ubuntu1804/x86_64  Release\n",
            "Hit:7 https://developer.download.nvidia.com/compute/machine-learning/repos/ubuntu1804/x86_64  Release\n",
            "Hit:8 http://archive.ubuntu.com/ubuntu bionic InRelease\n",
            "Get:9 http://archive.ubuntu.com/ubuntu bionic-updates InRelease [88.7 kB]\n",
            "Hit:10 http://ppa.launchpad.net/graphics-drivers/ppa/ubuntu bionic InRelease\n",
            "Get:11 http://archive.ubuntu.com/ubuntu bionic-backports InRelease [74.6 kB]\n",
            "Fetched 252 kB in 2s (136 kB/s)\n",
            "Reading package lists... Done\n",
            "Building dependency tree       \n",
            "Reading state information... Done\n",
            "59 packages can be upgraded. Run 'apt list --upgradable' to see them.\n",
            "Reading package lists... Done\n",
            "Building dependency tree       \n",
            "Reading state information... Done\n",
            "chromium-chromedriver is already the newest version (87.0.4280.66-0ubuntu0.18.04.1).\n",
            "0 upgraded, 0 newly installed, 0 to remove and 59 not upgraded.\n",
            "Requirement already satisfied: selenium in /usr/local/lib/python3.6/dist-packages (3.141.0)\n",
            "Requirement already satisfied: urllib3 in /usr/local/lib/python3.6/dist-packages (from selenium) (1.24.3)\n"
          ],
          "name": "stdout"
        }
      ]
    },
    {
      "cell_type": "code",
      "metadata": {
        "colab": {
          "base_uri": "https://localhost:8080/"
        },
        "id": "ov_aWFnN7N8i",
        "outputId": "cf64a237-1a86-4bd9-aa90-bf446eb39452"
      },
      "source": [
        "def Movie(searchterm):\n",
        " webpage = \"https://www.rottentomatoes.com/\" \n",
        " time.sleep(5)\n",
        " driver.get(webpage)\n",
        " l=driver.find_element_by_partial_link_text(searchterm)\n",
        " l.click()\n",
        " time.sleep(5)\n",
        " window_after = driver.window_handles[0]\n",
        " driver.switch_to.window(window_after)\n",
        " elem = driver.find_element_by_xpath(\"//div[@class='panel-body content_body']/ul\")\n",
        "\n",
        " Movie_Info = [ ]\n",
        " all_li = elem.find_elements_by_tag_name(\"li\")\n",
        " for li in all_li:\n",
        "    text = li.text\n",
        "    Movie_Info.append(text)\n",
        " return Movie_Info\n",
        "Movie_Info_List = [ ]\n",
        "Question1 = input( \"Search Movie Information: Y or N: \")\n",
        "if Question1.lower() == 'y': \n",
        " i = 0\n",
        " n = int (input( \"How many movies do you want to search?: \"))\n",
        " if n > 1:\n",
        "  print('Give all the Movie Names:')\n",
        "  my_list = [] \n",
        "  while (i<n): \n",
        "        my_list.append(str (input())) \n",
        "        i= i+1\n",
        "  for j in my_list:\n",
        "   Movie_Info_List.append(Movie(j))\n",
        " else:\n",
        "    searchterm = input(\"Enter the Movie Name: \") \n",
        "    Movie_Info_List.append(Movie(searchterm))\n",
        "else:\n",
        "  print('Thank you.')"
      ],
      "execution_count": 7,
      "outputs": [
        {
          "output_type": "stream",
          "text": [
            "Search Movie Information: Y or N: y\n",
            "How many movies do you want to search?: 2\n",
            "Give all the Movie Names:\n",
            "The Dark Knight\n",
            "Blues Brothers 2000\n"
          ],
          "name": "stdout"
        }
      ]
    },
    {
      "cell_type": "code",
      "metadata": {
        "colab": {
          "base_uri": "https://localhost:8080/"
        },
        "id": "MoOYNVHG1lZ3",
        "outputId": "9a0736d2-537e-42cd-ff81-1b0d8d1d07da"
      },
      "source": [
        "print(Movie_Info_List[0])\n",
        "result=list(reversed(my_list))"
      ],
      "execution_count": 9,
      "outputs": [
        {
          "output_type": "stream",
          "text": [
            "['Rating: PG-13 (Some Menace|Intense Sequences of Violence)', 'Genre: Fantasy, Adventure, Action', 'Original Language: English', 'Director: Christopher Nolan', 'Producer: Emma Thomas, Charles Roven, Christopher Nolan', 'Writer: Jonathan Nolan, Christopher Nolan', 'Release Date (Theaters): Jul 18, 2008  Wide', 'Release Date (Streaming): Jun 14, 2010', 'Box Office (Gross USA): $2.0M', 'Runtime: 2h 32m', 'Production Co: Syncopy', 'Sound Mix: DTS, Dolby Digital, SDDS', 'Aspect Ratio: Scope (2.35:1)', 'View the collection: Batman']\n"
          ],
          "name": "stdout"
        },
        {
          "output_type": "execute_result",
          "data": {
            "text/plain": [
              "['Blues Brothers 2000', 'The Dark Knight']"
            ]
          },
          "metadata": {
            "tags": []
          },
          "execution_count": 9
        }
      ]
    },
    {
      "cell_type": "code",
      "metadata": {
        "id": "sermghn1KJUy",
        "colab": {
          "base_uri": "https://localhost:8080/",
          "height": 386
        },
        "outputId": "ccea7deb-dc39-4764-9d8e-911042abc137"
      },
      "source": [
        "copy = pd.DataFrame()\n",
        "for i in range(len(Movie_Info_List)):\n",
        "   MovieInfo = pd.DataFrame({'Title': list (Movie_Info_List[i])})\n",
        "   MovieInfo['Info'] = MovieInfo['Title'].apply(lambda s: s.split(':')[0])\n",
        "   MovieInfo['Description'] = MovieInfo['Title'].apply(lambda s: s.split(':')[1])\n",
        "   del MovieInfo['Title']\n",
        "   trans = MovieInfo.set_index('Info').transpose()\n",
        "   trans = trans.append(copy, sort=False)\n",
        "   copy = trans\n",
        "   print(i)\n",
        "trans['Movie'] = result\n",
        "trans\n",
        "\n",
        "# merge.to_csv(\"movie.csv\",index= False,header=0)\n",
        "# MovieInfo.info()"
      ],
      "execution_count": 10,
      "outputs": [
        {
          "output_type": "stream",
          "text": [
            "0\n",
            "1\n"
          ],
          "name": "stdout"
        },
        {
          "output_type": "execute_result",
          "data": {
            "text/html": [
              "<div>\n",
              "<style scoped>\n",
              "    .dataframe tbody tr th:only-of-type {\n",
              "        vertical-align: middle;\n",
              "    }\n",
              "\n",
              "    .dataframe tbody tr th {\n",
              "        vertical-align: top;\n",
              "    }\n",
              "\n",
              "    .dataframe thead th {\n",
              "        text-align: right;\n",
              "    }\n",
              "</style>\n",
              "<table border=\"1\" class=\"dataframe\">\n",
              "  <thead>\n",
              "    <tr style=\"text-align: right;\">\n",
              "      <th></th>\n",
              "      <th>Rating</th>\n",
              "      <th>Genre</th>\n",
              "      <th>Original Language</th>\n",
              "      <th>Director</th>\n",
              "      <th>Producer</th>\n",
              "      <th>Release Date (Theaters)</th>\n",
              "      <th>Release Date (Streaming)</th>\n",
              "      <th>Box Office (Gross USA)</th>\n",
              "      <th>Runtime</th>\n",
              "      <th>Production Co</th>\n",
              "      <th>Sound Mix</th>\n",
              "      <th>Aspect Ratio</th>\n",
              "      <th>Writer</th>\n",
              "      <th>View the collection</th>\n",
              "      <th>Movie</th>\n",
              "    </tr>\n",
              "  </thead>\n",
              "  <tbody>\n",
              "    <tr>\n",
              "      <th>Description</th>\n",
              "      <td>PG-13 (Some Language|Exotic Dancing)</td>\n",
              "      <td>Comedy, Musical</td>\n",
              "      <td>English</td>\n",
              "      <td>John Landis</td>\n",
              "      <td>Dan Aykroyd, Leslie Belzberg, John Landis</td>\n",
              "      <td>Feb 6, 1998  Wide</td>\n",
              "      <td>Feb 12, 2014</td>\n",
              "      <td>$14.0M</td>\n",
              "      <td>2h 3m</td>\n",
              "      <td>Universal Pictures</td>\n",
              "      <td>Dolby SR, DTS, Dolby Stereo, Surround, SDDS, ...</td>\n",
              "      <td>Flat (1.85</td>\n",
              "      <td>NaN</td>\n",
              "      <td>NaN</td>\n",
              "      <td>Blues Brothers 2000</td>\n",
              "    </tr>\n",
              "    <tr>\n",
              "      <th>Description</th>\n",
              "      <td>PG-13 (Some Menace|Intense Sequences of Viole...</td>\n",
              "      <td>Fantasy, Adventure, Action</td>\n",
              "      <td>English</td>\n",
              "      <td>Christopher Nolan</td>\n",
              "      <td>Emma Thomas, Charles Roven, Christopher Nolan</td>\n",
              "      <td>Jul 18, 2008  Wide</td>\n",
              "      <td>Jun 14, 2010</td>\n",
              "      <td>$2.0M</td>\n",
              "      <td>2h 32m</td>\n",
              "      <td>Syncopy</td>\n",
              "      <td>DTS, Dolby Digital, SDDS</td>\n",
              "      <td>Scope (2.35</td>\n",
              "      <td>Jonathan Nolan, Christopher Nolan</td>\n",
              "      <td>Batman</td>\n",
              "      <td>The Dark Knight</td>\n",
              "    </tr>\n",
              "  </tbody>\n",
              "</table>\n",
              "</div>"
            ],
            "text/plain": [
              "                                                        Rating  ...                Movie\n",
              "Description               PG-13 (Some Language|Exotic Dancing)  ...  Blues Brothers 2000\n",
              "Description   PG-13 (Some Menace|Intense Sequences of Viole...  ...      The Dark Knight\n",
              "\n",
              "[2 rows x 15 columns]"
            ]
          },
          "metadata": {
            "tags": []
          },
          "execution_count": 10
        }
      ]
    },
    {
      "cell_type": "code",
      "metadata": {
        "id": "-qKwODkvtZ66"
      },
      "source": [
        "#Data Cleaning\n",
        "len(my_list)"
      ],
      "execution_count": null,
      "outputs": []
    },
    {
      "cell_type": "code",
      "metadata": {
        "id": "9weJHf4zc-DV"
      },
      "source": [
        ""
      ],
      "execution_count": null,
      "outputs": []
    }
  ]
}