{
  "nbformat": 4,
  "nbformat_minor": 0,
  "metadata": {
    "colab": {
      "name": "Internship_TopCritics.ipynb",
      "provenance": [],
      "collapsed_sections": []
    },
    "kernelspec": {
      "name": "python3",
      "display_name": "Python 3"
    }
  },
  "cells": [
    {
      "cell_type": "code",
      "metadata": {
        "colab": {
          "base_uri": "https://localhost:8080/"
        },
        "id": "RuoJdAjKMKQW",
        "outputId": "cb2fc7d1-16c0-4a2e-e552-181636600c82"
      },
      "source": [
        "# install chromium, its driver, and selenium\n",
        "!apt update\n",
        "!apt install chromium-chromedriver\n",
        "!pip install selenium\n",
        "# set options to be headless, ..\n",
        "from selenium import webdriver\n",
        "options = webdriver.ChromeOptions()\n",
        "options.add_argument('--headless')\n",
        "options.add_argument('--no-sandbox')\n",
        "options.add_argument('--disable-dev-shm-usage')\n",
        "# open it, go to a website, and get results\n",
        "driver = webdriver.Chrome('chromedriver',options=options)\n",
        "import pandas as pd\n"
      ],
      "execution_count": 1,
      "outputs": [
        {
          "output_type": "stream",
          "text": [
            "\u001b[33m\r0% [Working]\u001b[0m\r            \rIgn:1 https://developer.download.nvidia.com/compute/cuda/repos/ubuntu1804/x86_64  InRelease\n",
            "\u001b[33m\r0% [Connecting to archive.ubuntu.com (91.189.88.152)] [Connecting to security.u\u001b[0m\r                                                                               \rIgn:2 https://developer.download.nvidia.com/compute/machine-learning/repos/ubuntu1804/x86_64  InRelease\n",
            "\u001b[33m\r0% [Connecting to archive.ubuntu.com (91.189.88.152)] [Connecting to security.u\u001b[0m\r                                                                               \rHit:3 https://developer.download.nvidia.com/compute/cuda/repos/ubuntu1804/x86_64  Release\n",
            "\u001b[33m\r0% [Connecting to archive.ubuntu.com (91.189.88.152)] [Connecting to security.u\u001b[0m\r                                                                               \rGet:4 https://cloud.r-project.org/bin/linux/ubuntu bionic-cran40/ InRelease [3,626 B]\n",
            "\u001b[33m\r0% [Waiting for headers] [Connecting to security.ubuntu.com (91.189.88.152)] [W\u001b[0m\u001b[33m\r0% [Release.gpg gpgv 697 B] [Waiting for headers] [Connecting to security.ubunt\u001b[0m\r                                                                               \rHit:5 https://developer.download.nvidia.com/compute/machine-learning/repos/ubuntu1804/x86_64  Release\n",
            "\u001b[33m\r0% [Release.gpg gpgv 697 B] [Waiting for headers] [Connecting to security.ubunt\u001b[0m\r                                                                               \rHit:6 http://ppa.launchpad.net/c2d4u.team/c2d4u4.0+/ubuntu bionic InRelease\n",
            "Hit:7 http://archive.ubuntu.com/ubuntu bionic InRelease\n",
            "Get:9 http://security.ubuntu.com/ubuntu bionic-security InRelease [88.7 kB]\n",
            "Get:10 http://archive.ubuntu.com/ubuntu bionic-updates InRelease [88.7 kB]\n",
            "Hit:11 http://ppa.launchpad.net/graphics-drivers/ppa/ubuntu bionic InRelease\n",
            "Get:13 http://archive.ubuntu.com/ubuntu bionic-backports InRelease [74.6 kB]\n",
            "Fetched 256 kB in 2s (127 kB/s)\n",
            "Reading package lists... Done\n",
            "Building dependency tree       \n",
            "Reading state information... Done\n",
            "59 packages can be upgraded. Run 'apt list --upgradable' to see them.\n",
            "Reading package lists... Done\n",
            "Building dependency tree       \n",
            "Reading state information... Done\n",
            "chromium-chromedriver is already the newest version (87.0.4280.66-0ubuntu0.18.04.1).\n",
            "0 upgraded, 0 newly installed, 0 to remove and 59 not upgraded.\n",
            "Requirement already satisfied: selenium in /usr/local/lib/python3.6/dist-packages (3.141.0)\n",
            "Requirement already satisfied: urllib3 in /usr/local/lib/python3.6/dist-packages (from selenium) (1.24.3)\n"
          ],
          "name": "stdout"
        }
      ]
    },
    {
      "cell_type": "code",
      "metadata": {
        "colab": {
          "base_uri": "https://localhost:8080/"
        },
        "id": "ov_aWFnN7N8i",
        "outputId": "135b7444-aa8d-4c74-d617-bec973303950"
      },
      "source": [
        "def Movie(searchterm):\n",
        " webpage = \"https://www.rottentomatoes.com/m/{}\".format(searchterm)\n",
        " driver.get(webpage)\n",
        " elem = driver.find_element_by_id('reviews')\n",
        " all_li = elem.find_elements_by_css_selector('.top_critic')\n",
        " Top_critic = [ ]\n",
        " for li in all_li:\n",
        "    text = li.text\n",
        "    Top_critic.append(text)\n",
        " return Top_critic\n",
        "\n",
        "Movie_Top_critic = [ ]\n",
        "Question1 = input( \"Search Movie Information: Y or N: \")\n",
        "if Question1.lower() == 'y': \n",
        " i = 0\n",
        " n = int (input( \"How many movies do you want to search?: \"))\n",
        " if n > 1:\n",
        "  print('Give all the '+ str (n) +' Movie Names:')\n",
        "  my_list = [] \n",
        "  while (i<n): \n",
        "        my_list.append(str (input())) \n",
        "        i= i+1\n",
        "  my_list = [s.lower() for s in my_list]\n",
        "  my_list = [s.replace(' ','_') if (len(s.split()) > 1) else s for s in my_list ]\n",
        "  for j in my_list:\n",
        "   Movie_Top_critic.append(Movie(j))\n",
        " else:\n",
        "    searchterm = input(\"Enter the Movie Name: \")\n",
        "    searchterm = searchterm.lower()\n",
        "    if (len(searchterm.split()) > 1):\n",
        "     searchterm = searchterm.replace(' ','_')\n",
        "    print(searchterm)\n",
        "    Movie_Top_critic.append(Movie(searchterm))\n",
        "else:\n",
        "  print('Thank you.')\n",
        "\n",
        "# result = my_list.reverse()\n",
        "# result"
      ],
      "execution_count": 2,
      "outputs": [
        {
          "output_type": "stream",
          "text": [
            "Search Movie Information: Y or N: y\n",
            "How many movies do you want to search?: 2\n",
            "Give all the 2 Movie Names:\n",
            "the dark knight\n",
            "soul 2020\n"
          ],
          "name": "stdout"
        }
      ]
    },
    {
      "cell_type": "code",
      "metadata": {
        "colab": {
          "base_uri": "https://localhost:8080/"
        },
        "id": "951r0DEo_qW3",
        "outputId": "6b2fabac-ec74-42aa-d276-238a61171ab3"
      },
      "source": [
        "Movie_Top_critic"
      ],
      "execution_count": 3,
      "outputs": [
        {
          "output_type": "execute_result",
          "data": {
            "text/plain": [
              "[[\"This may seem like faint praise, but about the highest compliment I can give Christopher Nolan's The Dark Knight right now is to say that there were many long stretches during which I didn't even realize it was a superhero movie\\nDecember 13, 2017 | Full Review…\\nGlenn Kenny\\nMUBI\\nTOP CRITIC\",\n",
              "  \"Too much psychology and not enough pop. It's possible to be too serious, you know.\\nJune 2, 2017 | Full Review…\\nRyan Gilbey\\nNew Statesman\\nTOP CRITIC\",\n",
              "  'You will feel utterly numb after the screening of The Dark Knight. The film is bleak and brilliant.\\nMay 31, 2017 | Full Review…\\nJames Christopher\\nTimes (UK)\\nTOP CRITIC',\n",
              "  'This is an impressive film in many ways, and Nolan directs with real confidence, yet the overall result feels cumbersome.\\nAugust 20, 2014 | Full Review…\\nJonathan Romney\\nIndependent on Sunday\\nTOP CRITIC',\n",
              "  'Among the great strengths of The Dark Knight is the way it combines hardboiled naturalism with the kind of stunts and setpieces you expect in summer blockbusters.\\nAugust 20, 2014 | Full Review…\\nGeoffrey Macnab\\nIndependent (UK)\\nTOP CRITIC',\n",
              "  \"To talk of Heath Ledger's performance is difficult, merely because, as gigantic as it is, it is only one important feature of an intricately wrought canvas.\\nAugust 20, 2014 | Full Review…\\nTiru Thiruvilangam\\nLittle White Lies\\nTOP CRITIC\"],\n",
              " ['Like the best Pixar films, \"Soul\" isn\\'t just for kids. There are lessons here for all ages, some surprisingly complex.\\nDecember 20, 2020 | Rating: 4/5 | Full Review…\\nBill Goodykoontz\\nArizona Republic\\nTOP CRITIC',\n",
              "  'Arrives at some numbingly complex - and maybe not entirely consistent - answers, but generates some fun, and genuine beauty, along the way.\\nDecember 19, 2020 | Rating: 2.5/4 | Full Review…\\nAnn Hornaday\\nWashington Post\\nTOP CRITIC',\n",
              "  \"Pixar's first feature with a predominantly Black cast and a Black lead actor (the superb Jamie Foxx) contemplates the origins of jazz and the meaning of life and death. Don't fret the metaphysics, kids, It's the year's peak achievement in animation.\\nDecember 18, 2020 | Full Review…\\nPeter Travers\\nABC News\\nTOP CRITIC\",\n",
              "  'Soul is marvellous on many fronts.\\nDecember 18, 2020 | Rating: 3/4 | Full Review…\\nAparita Bhandari\\nGlobe and Mail\\nTOP CRITIC',\n",
              "  '[Soul is] pleasant and clever, with a generous heart, committed voice acting, and some of the kookiest images in Pixar history.\\nDecember 17, 2020 | Rating: 3/4 | Full Review…\\nMatt Zoller Seitz\\nRogerEbert.com\\nTOP CRITIC',\n",
              "  'Despite some distraction and not quite enough music, Soul manages to tap into deep emotion as its characters explore the limits of mortality and what it means to be passionate about life.\\nDecember 16, 2020 | Full Review…\\nSonia Saraiya\\nVanity Fair\\nTOP CRITIC']]"
            ]
          },
          "metadata": {
            "tags": []
          },
          "execution_count": 3
        }
      ]
    },
    {
      "cell_type": "code",
      "metadata": {
        "id": "pcpvFOEP6udc"
      },
      "source": [
        "# Movie_Top_critic = [i.split('\\n') for s in Movie_Top_critic for i in s]"
      ],
      "execution_count": 4,
      "outputs": []
    },
    {
      "cell_type": "code",
      "metadata": {
        "id": "ko-Jrtvd-wjC"
      },
      "source": [
        "# Movie_Top_critic\n",
        "# reviews = pd.DataFrame({'Reviews_Noise':list (Movie_Top_critic)})"
      ],
      "execution_count": 5,
      "outputs": []
    },
    {
      "cell_type": "code",
      "metadata": {
        "colab": {
          "base_uri": "https://localhost:8080/"
        },
        "id": "QhLMzP-F-wlf",
        "outputId": "a0b50bcf-d07a-4b42-f2ae-81dccc1e7b38"
      },
      "source": [
        "dict = { }\n",
        "def conv(movie, reviews ):\n",
        "   Review_list = [s.split('\\n') for s in reviews ]\n",
        "   dict[movie] = Review_list\n",
        "   return dict\n",
        "\n",
        "for i in range(0,len(my_list)):\n",
        " conv(my_list[i],Movie_Top_critic[i])\n",
        "\n",
        "dict"
      ],
      "execution_count": 31,
      "outputs": [
        {
          "output_type": "execute_result",
          "data": {
            "text/plain": [
              "{'soul_2020': [['Like the best Pixar films, \"Soul\" isn\\'t just for kids. There are lessons here for all ages, some surprisingly complex.',\n",
              "   'December 20, 2020 | Rating: 4/5 | Full Review…',\n",
              "   'Bill Goodykoontz',\n",
              "   'Arizona Republic',\n",
              "   'TOP CRITIC'],\n",
              "  ['Arrives at some numbingly complex - and maybe not entirely consistent - answers, but generates some fun, and genuine beauty, along the way.',\n",
              "   'December 19, 2020 | Rating: 2.5/4 | Full Review…',\n",
              "   'Ann Hornaday',\n",
              "   'Washington Post',\n",
              "   'TOP CRITIC'],\n",
              "  [\"Pixar's first feature with a predominantly Black cast and a Black lead actor (the superb Jamie Foxx) contemplates the origins of jazz and the meaning of life and death. Don't fret the metaphysics, kids, It's the year's peak achievement in animation.\",\n",
              "   'December 18, 2020 | Full Review…',\n",
              "   'Peter Travers',\n",
              "   'ABC News',\n",
              "   'TOP CRITIC'],\n",
              "  ['Soul is marvellous on many fronts.',\n",
              "   'December 18, 2020 | Rating: 3/4 | Full Review…',\n",
              "   'Aparita Bhandari',\n",
              "   'Globe and Mail',\n",
              "   'TOP CRITIC'],\n",
              "  ['[Soul is] pleasant and clever, with a generous heart, committed voice acting, and some of the kookiest images in Pixar history.',\n",
              "   'December 17, 2020 | Rating: 3/4 | Full Review…',\n",
              "   'Matt Zoller Seitz',\n",
              "   'RogerEbert.com',\n",
              "   'TOP CRITIC'],\n",
              "  ['Despite some distraction and not quite enough music, Soul manages to tap into deep emotion as its characters explore the limits of mortality and what it means to be passionate about life.',\n",
              "   'December 16, 2020 | Full Review…',\n",
              "   'Sonia Saraiya',\n",
              "   'Vanity Fair',\n",
              "   'TOP CRITIC']],\n",
              " 'the_dark_knight': [[\"This may seem like faint praise, but about the highest compliment I can give Christopher Nolan's The Dark Knight right now is to say that there were many long stretches during which I didn't even realize it was a superhero movie\",\n",
              "   'December 13, 2017 | Full Review…',\n",
              "   'Glenn Kenny',\n",
              "   'MUBI',\n",
              "   'TOP CRITIC'],\n",
              "  [\"Too much psychology and not enough pop. It's possible to be too serious, you know.\",\n",
              "   'June 2, 2017 | Full Review…',\n",
              "   'Ryan Gilbey',\n",
              "   'New Statesman',\n",
              "   'TOP CRITIC'],\n",
              "  ['You will feel utterly numb after the screening of The Dark Knight. The film is bleak and brilliant.',\n",
              "   'May 31, 2017 | Full Review…',\n",
              "   'James Christopher',\n",
              "   'Times (UK)',\n",
              "   'TOP CRITIC'],\n",
              "  ['This is an impressive film in many ways, and Nolan directs with real confidence, yet the overall result feels cumbersome.',\n",
              "   'August 20, 2014 | Full Review…',\n",
              "   'Jonathan Romney',\n",
              "   'Independent on Sunday',\n",
              "   'TOP CRITIC'],\n",
              "  ['Among the great strengths of The Dark Knight is the way it combines hardboiled naturalism with the kind of stunts and setpieces you expect in summer blockbusters.',\n",
              "   'August 20, 2014 | Full Review…',\n",
              "   'Geoffrey Macnab',\n",
              "   'Independent (UK)',\n",
              "   'TOP CRITIC'],\n",
              "  [\"To talk of Heath Ledger's performance is difficult, merely because, as gigantic as it is, it is only one important feature of an intricately wrought canvas.\",\n",
              "   'August 20, 2014 | Full Review…',\n",
              "   'Tiru Thiruvilangam',\n",
              "   'Little White Lies',\n",
              "   'TOP CRITIC']]}"
            ]
          },
          "metadata": {
            "tags": []
          },
          "execution_count": 31
        }
      ]
    },
    {
      "cell_type": "code",
      "metadata": {
        "colab": {
          "base_uri": "https://localhost:8080/",
          "height": 111
        },
        "id": "d6NXlqxA-wng",
        "outputId": "59b47c58-fd1b-4898-9fe1-632c38ffd2a8"
      },
      "source": [
        "review = pd.DataFrame(list (dict.items()),columns=('Movie','Critic_review'))\n",
        "review"
      ],
      "execution_count": 7,
      "outputs": [
        {
          "output_type": "execute_result",
          "data": {
            "text/html": [
              "<div>\n",
              "<style scoped>\n",
              "    .dataframe tbody tr th:only-of-type {\n",
              "        vertical-align: middle;\n",
              "    }\n",
              "\n",
              "    .dataframe tbody tr th {\n",
              "        vertical-align: top;\n",
              "    }\n",
              "\n",
              "    .dataframe thead th {\n",
              "        text-align: right;\n",
              "    }\n",
              "</style>\n",
              "<table border=\"1\" class=\"dataframe\">\n",
              "  <thead>\n",
              "    <tr style=\"text-align: right;\">\n",
              "      <th></th>\n",
              "      <th>Movie</th>\n",
              "      <th>Critic_review</th>\n",
              "    </tr>\n",
              "  </thead>\n",
              "  <tbody>\n",
              "    <tr>\n",
              "      <th>0</th>\n",
              "      <td>the_dark_knight</td>\n",
              "      <td>[[Like the best Pixar films, \"Soul\" isn't just...</td>\n",
              "    </tr>\n",
              "    <tr>\n",
              "      <th>1</th>\n",
              "      <td>soul_2020</td>\n",
              "      <td>[[Like the best Pixar films, \"Soul\" isn't just...</td>\n",
              "    </tr>\n",
              "  </tbody>\n",
              "</table>\n",
              "</div>"
            ],
            "text/plain": [
              "             Movie                                      Critic_review\n",
              "0  the_dark_knight  [[Like the best Pixar films, \"Soul\" isn't just...\n",
              "1        soul_2020  [[Like the best Pixar films, \"Soul\" isn't just..."
            ]
          },
          "metadata": {
            "tags": []
          },
          "execution_count": 7
        }
      ]
    },
    {
      "cell_type": "code",
      "metadata": {
        "colab": {
          "base_uri": "https://localhost:8080/"
        },
        "id": "JoUJo83c-wqX",
        "outputId": "a17d6e6c-20ea-41f1-f331-3322a6278c4a"
      },
      "source": [
        "review['Critic_review']"
      ],
      "execution_count": 8,
      "outputs": [
        {
          "output_type": "execute_result",
          "data": {
            "text/plain": [
              "0    [[Like the best Pixar films, \"Soul\" isn't just...\n",
              "1    [[Like the best Pixar films, \"Soul\" isn't just...\n",
              "Name: Critic_review, dtype: object"
            ]
          },
          "metadata": {
            "tags": []
          },
          "execution_count": 8
        }
      ]
    },
    {
      "cell_type": "code",
      "metadata": {
        "id": "sermghn1KJUy"
      },
      "source": [
        "# copy = pd.DataFrame()\n",
        "# for i in range(len(Movie_Info_List)):\n",
        "#    MovieInfo = pd.DataFrame({'Title': list (Movie_Info_List[i])})\n",
        "#    MovieInfo['Info'] = MovieInfo['Title'].apply(lambda s: s.split(':',1)[0])\n",
        "#    MovieInfo['Description'] = MovieInfo['Title'].apply(lambda s: s.split(':',1)[1])\n",
        "#    del MovieInfo['Title']\n",
        "#    trans = MovieInfo.set_index('Info').transpose()\n",
        "#    trans = trans.append(copy, sort=False)\n",
        "#    copy = trans"
      ],
      "execution_count": 9,
      "outputs": []
    },
    {
      "cell_type": "code",
      "metadata": {
        "id": "-qKwODkvtZ66"
      },
      "source": [
        "# trans.insert(0,'Movie',result)"
      ],
      "execution_count": 10,
      "outputs": []
    },
    {
      "cell_type": "code",
      "metadata": {
        "id": "JIrRE9AMbfYo"
      },
      "source": [
        "# trans.to_csv(\"Movie.csv\",index= False)"
      ],
      "execution_count": 11,
      "outputs": []
    },
    {
      "cell_type": "code",
      "metadata": {
        "id": "Uj74HQMDQ3yc"
      },
      "source": [
        ""
      ],
      "execution_count": 11,
      "outputs": []
    }
  ]
}