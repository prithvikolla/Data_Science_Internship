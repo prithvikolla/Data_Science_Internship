{
  "nbformat": 4,
  "nbformat_minor": 0,
  "metadata": {
    "colab": {
      "name": "Internship_TopCritics.ipynb",
      "provenance": [],
      "collapsed_sections": []
    },
    "kernelspec": {
      "name": "python3",
      "display_name": "Python 3"
    }
  },
  "cells": [
    {
      "cell_type": "code",
      "metadata": {
        "colab": {
          "base_uri": "https://localhost:8080/"
        },
        "id": "RuoJdAjKMKQW",
        "outputId": "98781e34-e10b-4d72-ec87-652c5b94c5c7"
      },
      "source": [
        "# install chromium, its driver, and selenium\n",
        "!apt update\n",
        "!apt install chromium-chromedriver\n",
        "!pip install selenium\n",
        "# set options to be headless, ..\n",
        "from selenium import webdriver\n",
        "options = webdriver.ChromeOptions()\n",
        "options.add_argument('--headless')\n",
        "options.add_argument('--no-sandbox')\n",
        "options.add_argument('--disable-dev-shm-usage')\n",
        "# open it, go to a website, and get results\n",
        "driver = webdriver.Chrome('chromedriver',options=options)\n",
        "import pandas as pd\n"
      ],
      "execution_count": 1,
      "outputs": [
        {
          "output_type": "stream",
          "text": [
            "\u001b[33m\r0% [Working]\u001b[0m\r            \rHit:1 http://ppa.launchpad.net/c2d4u.team/c2d4u4.0+/ubuntu bionic InRelease\n",
            "\u001b[33m\r0% [Connecting to archive.ubuntu.com (91.189.88.142)] [Connecting to security.u\u001b[0m\u001b[33m\r0% [1 InRelease gpgv 15.9 kB] [Waiting for headers] [Connecting to security.ubu\u001b[0m\r                                                                               \rHit:2 http://archive.ubuntu.com/ubuntu bionic InRelease\n",
            "\u001b[33m\r0% [1 InRelease gpgv 15.9 kB] [Waiting for headers] [Connecting to security.ubu\u001b[0m\r                                                                               \rHit:3 https://cloud.r-project.org/bin/linux/ubuntu bionic-cran40/ InRelease\n",
            "\r                                                                               \rHit:4 http://ppa.launchpad.net/graphics-drivers/ppa/ubuntu bionic InRelease\n",
            "\u001b[33m\r0% [1 InRelease gpgv 15.9 kB] [Waiting for headers] [Connecting to security.ubu\u001b[0m\r                                                                               \rGet:5 http://archive.ubuntu.com/ubuntu bionic-updates InRelease [88.7 kB]\n",
            "\u001b[33m\r0% [1 InRelease gpgv 15.9 kB] [5 InRelease 14.2 kB/88.7 kB 16%] [Connecting to \u001b[0m\u001b[33m\r0% [1 InRelease gpgv 15.9 kB] [Waiting for headers] [Connecting to security.ubu\u001b[0m\r                                                                               \rGet:6 http://archive.ubuntu.com/ubuntu bionic-backports InRelease [74.6 kB]\n",
            "Get:7 http://security.ubuntu.com/ubuntu bionic-security InRelease [88.7 kB]\n",
            "Ign:8 https://developer.download.nvidia.com/compute/cuda/repos/ubuntu1804/x86_64  InRelease\n",
            "Ign:9 https://developer.download.nvidia.com/compute/machine-learning/repos/ubuntu1804/x86_64  InRelease\n",
            "Hit:10 https://developer.download.nvidia.com/compute/cuda/repos/ubuntu1804/x86_64  Release\n",
            "Hit:11 https://developer.download.nvidia.com/compute/machine-learning/repos/ubuntu1804/x86_64  Release\n",
            "Fetched 252 kB in 2s (158 kB/s)\n",
            "Reading package lists... Done\n",
            "Building dependency tree       \n",
            "Reading state information... Done\n",
            "59 packages can be upgraded. Run 'apt list --upgradable' to see them.\n",
            "Reading package lists... Done\n",
            "Building dependency tree       \n",
            "Reading state information... Done\n",
            "chromium-chromedriver is already the newest version (87.0.4280.66-0ubuntu0.18.04.1).\n",
            "0 upgraded, 0 newly installed, 0 to remove and 59 not upgraded.\n",
            "Requirement already satisfied: selenium in /usr/local/lib/python3.6/dist-packages (3.141.0)\n",
            "Requirement already satisfied: urllib3 in /usr/local/lib/python3.6/dist-packages (from selenium) (1.24.3)\n"
          ],
          "name": "stdout"
        }
      ]
    },
    {
      "cell_type": "code",
      "metadata": {
        "colab": {
          "base_uri": "https://localhost:8080/"
        },
        "id": "ov_aWFnN7N8i",
        "outputId": "4327d2d7-ba9c-41a6-da19-fc8fa5ef34e7"
      },
      "source": [
        "def Movie(searchterm):\n",
        " webpage = \"https://www.rottentomatoes.com/m/{}\".format(searchterm)\n",
        " driver.get(webpage)\n",
        " elem = driver.find_element_by_id('reviews')\n",
        " all_li = elem.find_elements_by_css_selector('.top_critic')\n",
        " Top_critic = [ ]\n",
        " for li in all_li:\n",
        "    text = li.text\n",
        "    Top_critic.append(text)\n",
        " return Top_critic\n",
        "\n",
        "Movie_Top_critic = [ ]\n",
        "Question1 = input( \"Search Movie Information: Y or N: \")\n",
        "if Question1.lower() == 'y': \n",
        " i = 0\n",
        " n = int (input( \"How many movies do you want to search?: \"))\n",
        " if n > 1:\n",
        "  print('Give all the '+ str (n) +' Movie Names:')\n",
        "  my_list = [] \n",
        "  while (i<n): \n",
        "        my_list.append(str (input())) \n",
        "        i= i+1\n",
        "  my_list = [s.lower() for s in my_list]\n",
        "  my_list = [s.replace(' ','_') if (len(s.split()) > 1) else s for s in my_list ]\n",
        "  for j in my_list:\n",
        "   Movie_Top_critic.append(Movie(j))\n",
        " else:\n",
        "    searchterm = input(\"Enter the Movie Name: \")\n",
        "    searchterm = searchterm.lower()\n",
        "    if (len(searchterm.split()) > 1):\n",
        "     searchterm = searchterm.replace(' ','_')\n",
        "    print(searchterm)\n",
        "    Movie_Top_critic.append(Movie(searchterm))\n",
        "else:\n",
        "  print('Thank you.')\n",
        "\n",
        "# result = my_list.reverse()\n",
        "# result"
      ],
      "execution_count": 3,
      "outputs": [
        {
          "output_type": "stream",
          "text": [
            "Search Movie Information: Y or N: y\n",
            "How many movies do you want to search?: 1\n",
            "Enter the Movie Name: the dark knight\n",
            "the_dark_knight\n"
          ],
          "name": "stdout"
        }
      ]
    },
    {
      "cell_type": "code",
      "metadata": {
        "colab": {
          "base_uri": "https://localhost:8080/"
        },
        "id": "951r0DEo_qW3",
        "outputId": "f21f4da5-e454-48af-dcf1-543b2d9443c4"
      },
      "source": [
        "Movie_Top_critic"
      ],
      "execution_count": 4,
      "outputs": [
        {
          "output_type": "execute_result",
          "data": {
            "text/plain": [
              "[[\"This may seem like faint praise, but about the highest compliment I can give Christopher Nolan's The Dark Knight right now is to say that there were many long stretches during which I didn't even realize it was a superhero movie\\nDecember 13, 2017 | Full Review…\\nGlenn Kenny\\nMUBI\\nTOP CRITIC\",\n",
              "  \"Too much psychology and not enough pop. It's possible to be too serious, you know.\\nJune 2, 2017 | Full Review…\\nRyan Gilbey\\nNew Statesman\\nTOP CRITIC\",\n",
              "  'You will feel utterly numb after the screening of The Dark Knight. The film is bleak and brilliant.\\nMay 31, 2017 | Full Review…\\nJames Christopher\\nTimes (UK)\\nTOP CRITIC',\n",
              "  'This is an impressive film in many ways, and Nolan directs with real confidence, yet the overall result feels cumbersome.\\nAugust 20, 2014 | Full Review…\\nJonathan Romney\\nIndependent on Sunday\\nTOP CRITIC',\n",
              "  'Among the great strengths of The Dark Knight is the way it combines hardboiled naturalism with the kind of stunts and setpieces you expect in summer blockbusters.\\nAugust 20, 2014 | Full Review…\\nGeoffrey Macnab\\nIndependent (UK)\\nTOP CRITIC',\n",
              "  \"To talk of Heath Ledger's performance is difficult, merely because, as gigantic as it is, it is only one important feature of an intricately wrought canvas.\\nAugust 20, 2014 | Full Review…\\nTiru Thiruvilangam\\nLittle White Lies\\nTOP CRITIC\"]]"
            ]
          },
          "metadata": {
            "tags": []
          },
          "execution_count": 4
        }
      ]
    },
    {
      "cell_type": "code",
      "metadata": {
        "id": "pcpvFOEP6udc"
      },
      "source": [
        "Movie_Top_critic = [i.split('\\n') for s in Movie_Top_critic for i in s]"
      ],
      "execution_count": 6,
      "outputs": []
    },
    {
      "cell_type": "code",
      "metadata": {
        "colab": {
          "base_uri": "https://localhost:8080/"
        },
        "id": "ko-Jrtvd-wjC",
        "outputId": "46e67fdc-a53e-4669-c244-945762838621"
      },
      "source": [
        "Movie_Top_critic\n",
        "# reviews = pd.DataFrame({'Reviews_Noise':list (Movie_Top_critic)})"
      ],
      "execution_count": 7,
      "outputs": [
        {
          "output_type": "execute_result",
          "data": {
            "text/plain": [
              "[[\"This may seem like faint praise, but about the highest compliment I can give Christopher Nolan's The Dark Knight right now is to say that there were many long stretches during which I didn't even realize it was a superhero movie\",\n",
              "  'December 13, 2017 | Full Review…',\n",
              "  'Glenn Kenny',\n",
              "  'MUBI',\n",
              "  'TOP CRITIC'],\n",
              " [\"Too much psychology and not enough pop. It's possible to be too serious, you know.\",\n",
              "  'June 2, 2017 | Full Review…',\n",
              "  'Ryan Gilbey',\n",
              "  'New Statesman',\n",
              "  'TOP CRITIC'],\n",
              " ['You will feel utterly numb after the screening of The Dark Knight. The film is bleak and brilliant.',\n",
              "  'May 31, 2017 | Full Review…',\n",
              "  'James Christopher',\n",
              "  'Times (UK)',\n",
              "  'TOP CRITIC'],\n",
              " ['This is an impressive film in many ways, and Nolan directs with real confidence, yet the overall result feels cumbersome.',\n",
              "  'August 20, 2014 | Full Review…',\n",
              "  'Jonathan Romney',\n",
              "  'Independent on Sunday',\n",
              "  'TOP CRITIC'],\n",
              " ['Among the great strengths of The Dark Knight is the way it combines hardboiled naturalism with the kind of stunts and setpieces you expect in summer blockbusters.',\n",
              "  'August 20, 2014 | Full Review…',\n",
              "  'Geoffrey Macnab',\n",
              "  'Independent (UK)',\n",
              "  'TOP CRITIC'],\n",
              " [\"To talk of Heath Ledger's performance is difficult, merely because, as gigantic as it is, it is only one important feature of an intricately wrought canvas.\",\n",
              "  'August 20, 2014 | Full Review…',\n",
              "  'Tiru Thiruvilangam',\n",
              "  'Little White Lies',\n",
              "  'TOP CRITIC']]"
            ]
          },
          "metadata": {
            "tags": []
          },
          "execution_count": 7
        }
      ]
    },
    {
      "cell_type": "code",
      "metadata": {
        "id": "QhLMzP-F-wlf"
      },
      "source": [
        "# reviews"
      ],
      "execution_count": null,
      "outputs": []
    },
    {
      "cell_type": "code",
      "metadata": {
        "id": "d6NXlqxA-wng"
      },
      "source": [
        ""
      ],
      "execution_count": null,
      "outputs": []
    },
    {
      "cell_type": "code",
      "metadata": {
        "id": "JoUJo83c-wqX"
      },
      "source": [
        ""
      ],
      "execution_count": null,
      "outputs": []
    },
    {
      "cell_type": "code",
      "metadata": {
        "id": "sermghn1KJUy"
      },
      "source": [
        "# copy = pd.DataFrame()\n",
        "# for i in range(len(Movie_Info_List)):\n",
        "#    MovieInfo = pd.DataFrame({'Title': list (Movie_Info_List[i])})\n",
        "#    MovieInfo['Info'] = MovieInfo['Title'].apply(lambda s: s.split(':',1)[0])\n",
        "#    MovieInfo['Description'] = MovieInfo['Title'].apply(lambda s: s.split(':',1)[1])\n",
        "#    del MovieInfo['Title']\n",
        "#    trans = MovieInfo.set_index('Info').transpose()\n",
        "#    trans = trans.append(copy, sort=False)\n",
        "#    copy = trans"
      ],
      "execution_count": null,
      "outputs": []
    },
    {
      "cell_type": "code",
      "metadata": {
        "id": "-qKwODkvtZ66"
      },
      "source": [
        "# trans.insert(0,'Movie',result)"
      ],
      "execution_count": null,
      "outputs": []
    },
    {
      "cell_type": "code",
      "metadata": {
        "id": "JIrRE9AMbfYo"
      },
      "source": [
        "# trans.to_csv(\"Movie.csv\",index= False)"
      ],
      "execution_count": null,
      "outputs": []
    },
    {
      "cell_type": "code",
      "metadata": {
        "id": "Uj74HQMDQ3yc"
      },
      "source": [
        ""
      ],
      "execution_count": null,
      "outputs": []
    }
  ]
}