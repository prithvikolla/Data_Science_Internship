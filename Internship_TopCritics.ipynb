{
  "nbformat": 4,
  "nbformat_minor": 0,
  "metadata": {
    "colab": {
      "name": "Internship_TopCritics.ipynb",
      "provenance": [],
      "collapsed_sections": []
    },
    "kernelspec": {
      "name": "python3",
      "display_name": "Python 3"
    }
  },
  "cells": [
    {
      "cell_type": "code",
      "metadata": {
        "colab": {
          "base_uri": "https://localhost:8080/"
        },
        "id": "RuoJdAjKMKQW",
        "outputId": "6b49afaf-eec9-4b5b-fc89-9e45c121e7bd"
      },
      "source": [
        "# install chromium, its driver, and selenium\n",
        "!apt update\n",
        "!apt install chromium-chromedriver\n",
        "!pip install selenium\n",
        "# set options to be headless, ..\n",
        "from selenium import webdriver\n",
        "options = webdriver.ChromeOptions()\n",
        "options.add_argument('--headless')\n",
        "options.add_argument('--no-sandbox')\n",
        "options.add_argument('--disable-dev-shm-usage')\n",
        "# open it, go to a website, and get results\n",
        "driver = webdriver.Chrome('chromedriver',options=options)\n",
        "import pandas as pd\n"
      ],
      "execution_count": 32,
      "outputs": [
        {
          "output_type": "stream",
          "text": [
            "\u001b[33m\r0% [Working]\u001b[0m\r            \rIgn:1 https://developer.download.nvidia.com/compute/cuda/repos/ubuntu1804/x86_64  InRelease\n",
            "\u001b[33m\r0% [Connecting to archive.ubuntu.com (91.189.88.142)] [Connecting to security.u\u001b[0m\r                                                                               \rHit:2 https://cloud.r-project.org/bin/linux/ubuntu bionic-cran40/ InRelease\n",
            "\u001b[33m\r0% [Connecting to archive.ubuntu.com (91.189.88.142)] [Connecting to security.u\u001b[0m\u001b[33m\r0% [2 InRelease gpgv 3,626 B] [Connecting to archive.ubuntu.com (91.189.88.142)\u001b[0m\r                                                                               \rIgn:3 https://developer.download.nvidia.com/compute/machine-learning/repos/ubuntu1804/x86_64  InRelease\n",
            "\u001b[33m\r0% [2 InRelease gpgv 3,626 B] [Connecting to archive.ubuntu.com (91.189.88.142)\u001b[0m\r                                                                               \rHit:4 https://developer.download.nvidia.com/compute/cuda/repos/ubuntu1804/x86_64  Release\n",
            "\u001b[33m\r0% [2 InRelease gpgv 3,626 B] [Connecting to archive.ubuntu.com (91.189.88.142)\u001b[0m\r                                                                               \rHit:5 https://developer.download.nvidia.com/compute/machine-learning/repos/ubuntu1804/x86_64  Release\n",
            "\u001b[33m\r0% [2 InRelease gpgv 3,626 B] [Connecting to archive.ubuntu.com (91.189.88.142)\u001b[0m\r                                                                               \rHit:6 http://ppa.launchpad.net/c2d4u.team/c2d4u4.0+/ubuntu bionic InRelease\n",
            "\u001b[33m\r0% [2 InRelease gpgv 3,626 B] [Waiting for headers] [Waiting for headers] [Conn\u001b[0m\r                                                                               \rHit:7 http://archive.ubuntu.com/ubuntu bionic InRelease\n",
            "Get:8 http://security.ubuntu.com/ubuntu bionic-security InRelease [88.7 kB]\n",
            "Get:9 http://archive.ubuntu.com/ubuntu bionic-updates InRelease [88.7 kB]\n",
            "Hit:11 http://ppa.launchpad.net/graphics-drivers/ppa/ubuntu bionic InRelease\n",
            "Get:13 http://archive.ubuntu.com/ubuntu bionic-backports InRelease [74.6 kB]\n",
            "Fetched 252 kB in 2s (132 kB/s)\n",
            "Reading package lists... Done\n",
            "Building dependency tree       \n",
            "Reading state information... Done\n",
            "59 packages can be upgraded. Run 'apt list --upgradable' to see them.\n",
            "Reading package lists... Done\n",
            "Building dependency tree       \n",
            "Reading state information... Done\n",
            "chromium-chromedriver is already the newest version (87.0.4280.66-0ubuntu0.18.04.1).\n",
            "0 upgraded, 0 newly installed, 0 to remove and 59 not upgraded.\n",
            "Requirement already satisfied: selenium in /usr/local/lib/python3.6/dist-packages (3.141.0)\n",
            "Requirement already satisfied: urllib3 in /usr/local/lib/python3.6/dist-packages (from selenium) (1.24.3)\n"
          ],
          "name": "stdout"
        }
      ]
    },
    {
      "cell_type": "code",
      "metadata": {
        "colab": {
          "base_uri": "https://localhost:8080/"
        },
        "id": "ov_aWFnN7N8i",
        "outputId": "37c331d8-cfbb-4d64-e270-3508348625a9"
      },
      "source": [
        "def Movie(searchterm):\n",
        " webpage = \"https://www.rottentomatoes.com/m/{}\".format(searchterm)\n",
        " driver.get(webpage)\n",
        " elem = driver.find_element_by_id('reviews')\n",
        " all_li = elem.find_elements_by_css_selector('.top_critic')\n",
        " Top_critic = [ ]\n",
        " for li in all_li:\n",
        "    text = li.text\n",
        "    Top_critic.append(text)\n",
        " return Top_critic\n",
        "\n",
        "Movie_Top_critic = [ ]\n",
        "Question1 = input( \"Search Movie Information: Y or N: \")\n",
        "if Question1.lower() == 'y': \n",
        " i = 0\n",
        " n = int (input( \"How many movies do you want to search?: \"))\n",
        " if n > 1:\n",
        "  print('Give all the '+ str (n) +' Movie Names:')\n",
        "  my_list = [] \n",
        "  while (i<n): \n",
        "        my_list.append(str (input())) \n",
        "        i= i+1\n",
        "  my_list = [s.lower() for s in my_list]\n",
        "  my_list = [s.replace(' ','_') if (len(s.split()) > 1) else s for s in my_list ]\n",
        "  for j in my_list:\n",
        "   Movie_Top_critic.append(Movie(j))\n",
        " else:\n",
        "    searchterm = input(\"Enter the Movie Name: \")\n",
        "    searchterm = searchterm.lower()\n",
        "    if (len(searchterm.split()) > 1):\n",
        "     searchterm = searchterm.replace(' ','_')\n",
        "    print(searchterm)\n",
        "    Movie_Top_critic.append(Movie(searchterm))\n",
        "else:\n",
        "  print('Thank you.')\n",
        "\n",
        "# result = my_list.reverse()\n",
        "# result"
      ],
      "execution_count": 33,
      "outputs": [
        {
          "output_type": "stream",
          "text": [
            "Search Movie Information: Y or N: y\n",
            "How many movies do you want to search?: 2\n",
            "Give all the 2 Movie Names:\n",
            "the dark knight\n",
            "soul 2020\n"
          ],
          "name": "stdout"
        }
      ]
    },
    {
      "cell_type": "code",
      "metadata": {
        "colab": {
          "base_uri": "https://localhost:8080/"
        },
        "id": "951r0DEo_qW3",
        "outputId": "a5f1164e-54df-400f-a1ed-726611870709"
      },
      "source": [
        "Movie_Top_critic"
      ],
      "execution_count": 34,
      "outputs": [
        {
          "output_type": "execute_result",
          "data": {
            "text/plain": [
              "[[\"This may seem like faint praise, but about the highest compliment I can give Christopher Nolan's The Dark Knight right now is to say that there were many long stretches during which I didn't even realize it was a superhero movie\\nDecember 13, 2017 | Full Review…\\nGlenn Kenny\\nMUBI\\nTOP CRITIC\",\n",
              "  \"Too much psychology and not enough pop. It's possible to be too serious, you know.\\nJune 2, 2017 | Full Review…\\nRyan Gilbey\\nNew Statesman\\nTOP CRITIC\",\n",
              "  'You will feel utterly numb after the screening of The Dark Knight. The film is bleak and brilliant.\\nMay 31, 2017 | Full Review…\\nJames Christopher\\nTimes (UK)\\nTOP CRITIC',\n",
              "  'This is an impressive film in many ways, and Nolan directs with real confidence, yet the overall result feels cumbersome.\\nAugust 20, 2014 | Full Review…\\nJonathan Romney\\nIndependent on Sunday\\nTOP CRITIC',\n",
              "  'Among the great strengths of The Dark Knight is the way it combines hardboiled naturalism with the kind of stunts and setpieces you expect in summer blockbusters.\\nAugust 20, 2014 | Full Review…\\nGeoffrey Macnab\\nIndependent (UK)\\nTOP CRITIC',\n",
              "  \"To talk of Heath Ledger's performance is difficult, merely because, as gigantic as it is, it is only one important feature of an intricately wrought canvas.\\nAugust 20, 2014 | Full Review…\\nTiru Thiruvilangam\\nLittle White Lies\\nTOP CRITIC\"],\n",
              " ['Far from teaching children to follow their dreams, the movie... advocates leaving the dreaming to the pros.\\nDecember 21, 2020 | Full Review…\\nRichard Brody\\nNew Yorker\\nTOP CRITIC',\n",
              "  'Like the best Pixar films, \"Soul\" isn\\'t just for kids. There are lessons here for all ages, some surprisingly complex.\\nDecember 20, 2020 | Rating: 4/5 | Full Review…\\nBill Goodykoontz\\nArizona Republic\\nTOP CRITIC',\n",
              "  'Arrives at some numbingly complex - and maybe not entirely consistent - answers, but generates some fun, and genuine beauty, along the way.\\nDecember 19, 2020 | Rating: 2.5/4 | Full Review…\\nAnn Hornaday\\nWashington Post\\nTOP CRITIC',\n",
              "  \"Pixar's first feature with a predominantly Black cast and a Black lead actor (the superb Jamie Foxx) contemplates the origins of jazz and the meaning of life and death. Don't fret the metaphysics, kids, It's the year's peak achievement in animation.\\nDecember 18, 2020 | Full Review…\\nPeter Travers\\nABC News\\nTOP CRITIC\",\n",
              "  'Soul is marvellous on many fronts.\\nDecember 18, 2020 | Rating: 3/4 | Full Review…\\nAparita Bhandari\\nGlobe and Mail\\nTOP CRITIC',\n",
              "  '[Soul is] pleasant and clever, with a generous heart, committed voice acting, and some of the kookiest images in Pixar history.\\nDecember 17, 2020 | Rating: 3/4 | Full Review…\\nMatt Zoller Seitz\\nRogerEbert.com\\nTOP CRITIC']]"
            ]
          },
          "metadata": {
            "tags": []
          },
          "execution_count": 34
        }
      ]
    },
    {
      "cell_type": "code",
      "metadata": {
        "id": "pcpvFOEP6udc"
      },
      "source": [
        "# Movie_Top_critic = [i.split('\\n') for s in Movie_Top_critic for i in s]"
      ],
      "execution_count": 35,
      "outputs": []
    },
    {
      "cell_type": "code",
      "metadata": {
        "id": "ko-Jrtvd-wjC"
      },
      "source": [
        "# Movie_Top_critic\n",
        "# reviews = pd.DataFrame({'Reviews_Noise':list (Movie_Top_critic)})"
      ],
      "execution_count": 36,
      "outputs": []
    },
    {
      "cell_type": "code",
      "metadata": {
        "colab": {
          "base_uri": "https://localhost:8080/"
        },
        "id": "QhLMzP-F-wlf",
        "outputId": "5682548a-9da8-464e-8c7a-0169861a6b6e"
      },
      "source": [
        "dict = { }\n",
        "def conv(movie, reviews ):\n",
        "   Review_list = [s.split('\\n') for s in reviews ]\n",
        "   dict[movie] = Review_list\n",
        "   return dict\n",
        "\n",
        "for i in range(0,len(my_list)):\n",
        " conv(my_list[i],Movie_Top_critic[i])\n",
        "\n",
        "dict"
      ],
      "execution_count": 37,
      "outputs": [
        {
          "output_type": "execute_result",
          "data": {
            "text/plain": [
              "{'soul_2020': [['Far from teaching children to follow their dreams, the movie... advocates leaving the dreaming to the pros.',\n",
              "   'December 21, 2020 | Full Review…',\n",
              "   'Richard Brody',\n",
              "   'New Yorker',\n",
              "   'TOP CRITIC'],\n",
              "  ['Like the best Pixar films, \"Soul\" isn\\'t just for kids. There are lessons here for all ages, some surprisingly complex.',\n",
              "   'December 20, 2020 | Rating: 4/5 | Full Review…',\n",
              "   'Bill Goodykoontz',\n",
              "   'Arizona Republic',\n",
              "   'TOP CRITIC'],\n",
              "  ['Arrives at some numbingly complex - and maybe not entirely consistent - answers, but generates some fun, and genuine beauty, along the way.',\n",
              "   'December 19, 2020 | Rating: 2.5/4 | Full Review…',\n",
              "   'Ann Hornaday',\n",
              "   'Washington Post',\n",
              "   'TOP CRITIC'],\n",
              "  [\"Pixar's first feature with a predominantly Black cast and a Black lead actor (the superb Jamie Foxx) contemplates the origins of jazz and the meaning of life and death. Don't fret the metaphysics, kids, It's the year's peak achievement in animation.\",\n",
              "   'December 18, 2020 | Full Review…',\n",
              "   'Peter Travers',\n",
              "   'ABC News',\n",
              "   'TOP CRITIC'],\n",
              "  ['Soul is marvellous on many fronts.',\n",
              "   'December 18, 2020 | Rating: 3/4 | Full Review…',\n",
              "   'Aparita Bhandari',\n",
              "   'Globe and Mail',\n",
              "   'TOP CRITIC'],\n",
              "  ['[Soul is] pleasant and clever, with a generous heart, committed voice acting, and some of the kookiest images in Pixar history.',\n",
              "   'December 17, 2020 | Rating: 3/4 | Full Review…',\n",
              "   'Matt Zoller Seitz',\n",
              "   'RogerEbert.com',\n",
              "   'TOP CRITIC']],\n",
              " 'the_dark_knight': [[\"This may seem like faint praise, but about the highest compliment I can give Christopher Nolan's The Dark Knight right now is to say that there were many long stretches during which I didn't even realize it was a superhero movie\",\n",
              "   'December 13, 2017 | Full Review…',\n",
              "   'Glenn Kenny',\n",
              "   'MUBI',\n",
              "   'TOP CRITIC'],\n",
              "  [\"Too much psychology and not enough pop. It's possible to be too serious, you know.\",\n",
              "   'June 2, 2017 | Full Review…',\n",
              "   'Ryan Gilbey',\n",
              "   'New Statesman',\n",
              "   'TOP CRITIC'],\n",
              "  ['You will feel utterly numb after the screening of The Dark Knight. The film is bleak and brilliant.',\n",
              "   'May 31, 2017 | Full Review…',\n",
              "   'James Christopher',\n",
              "   'Times (UK)',\n",
              "   'TOP CRITIC'],\n",
              "  ['This is an impressive film in many ways, and Nolan directs with real confidence, yet the overall result feels cumbersome.',\n",
              "   'August 20, 2014 | Full Review…',\n",
              "   'Jonathan Romney',\n",
              "   'Independent on Sunday',\n",
              "   'TOP CRITIC'],\n",
              "  ['Among the great strengths of The Dark Knight is the way it combines hardboiled naturalism with the kind of stunts and setpieces you expect in summer blockbusters.',\n",
              "   'August 20, 2014 | Full Review…',\n",
              "   'Geoffrey Macnab',\n",
              "   'Independent (UK)',\n",
              "   'TOP CRITIC'],\n",
              "  [\"To talk of Heath Ledger's performance is difficult, merely because, as gigantic as it is, it is only one important feature of an intricately wrought canvas.\",\n",
              "   'August 20, 2014 | Full Review…',\n",
              "   'Tiru Thiruvilangam',\n",
              "   'Little White Lies',\n",
              "   'TOP CRITIC']]}"
            ]
          },
          "metadata": {
            "tags": []
          },
          "execution_count": 37
        }
      ]
    },
    {
      "cell_type": "code",
      "metadata": {
        "colab": {
          "base_uri": "https://localhost:8080/"
        },
        "id": "ilntn5zLA8T7",
        "outputId": "435f2e00-2ab8-4e6e-f8e8-5edcff661684"
      },
      "source": [
        "# for l in dict.keys():\n",
        "#   if l == my_list\n",
        "\n",
        "for i in dict.values():\n",
        "  for j in i:\n",
        "     print(j)"
      ],
      "execution_count": 72,
      "outputs": [
        {
          "output_type": "stream",
          "text": [
            "[\"This may seem like faint praise, but about the highest compliment I can give Christopher Nolan's The Dark Knight right now is to say that there were many long stretches during which I didn't even realize it was a superhero movie\", 'December 13, 2017 | Full Review…', 'Glenn Kenny', 'MUBI', 'TOP CRITIC']\n",
            "[\"Too much psychology and not enough pop. It's possible to be too serious, you know.\", 'June 2, 2017 | Full Review…', 'Ryan Gilbey', 'New Statesman', 'TOP CRITIC']\n",
            "['You will feel utterly numb after the screening of The Dark Knight. The film is bleak and brilliant.', 'May 31, 2017 | Full Review…', 'James Christopher', 'Times (UK)', 'TOP CRITIC']\n",
            "['This is an impressive film in many ways, and Nolan directs with real confidence, yet the overall result feels cumbersome.', 'August 20, 2014 | Full Review…', 'Jonathan Romney', 'Independent on Sunday', 'TOP CRITIC']\n",
            "['Among the great strengths of The Dark Knight is the way it combines hardboiled naturalism with the kind of stunts and setpieces you expect in summer blockbusters.', 'August 20, 2014 | Full Review…', 'Geoffrey Macnab', 'Independent (UK)', 'TOP CRITIC']\n",
            "[\"To talk of Heath Ledger's performance is difficult, merely because, as gigantic as it is, it is only one important feature of an intricately wrought canvas.\", 'August 20, 2014 | Full Review…', 'Tiru Thiruvilangam', 'Little White Lies', 'TOP CRITIC']\n",
            "['Far from teaching children to follow their dreams, the movie... advocates leaving the dreaming to the pros.', 'December 21, 2020 | Full Review…', 'Richard Brody', 'New Yorker', 'TOP CRITIC']\n",
            "['Like the best Pixar films, \"Soul\" isn\\'t just for kids. There are lessons here for all ages, some surprisingly complex.', 'December 20, 2020 | Rating: 4/5 | Full Review…', 'Bill Goodykoontz', 'Arizona Republic', 'TOP CRITIC']\n",
            "['Arrives at some numbingly complex - and maybe not entirely consistent - answers, but generates some fun, and genuine beauty, along the way.', 'December 19, 2020 | Rating: 2.5/4 | Full Review…', 'Ann Hornaday', 'Washington Post', 'TOP CRITIC']\n",
            "[\"Pixar's first feature with a predominantly Black cast and a Black lead actor (the superb Jamie Foxx) contemplates the origins of jazz and the meaning of life and death. Don't fret the metaphysics, kids, It's the year's peak achievement in animation.\", 'December 18, 2020 | Full Review…', 'Peter Travers', 'ABC News', 'TOP CRITIC']\n",
            "['Soul is marvellous on many fronts.', 'December 18, 2020 | Rating: 3/4 | Full Review…', 'Aparita Bhandari', 'Globe and Mail', 'TOP CRITIC']\n",
            "['[Soul is] pleasant and clever, with a generous heart, committed voice acting, and some of the kookiest images in Pixar history.', 'December 17, 2020 | Rating: 3/4 | Full Review…', 'Matt Zoller Seitz', 'RogerEbert.com', 'TOP CRITIC']\n"
          ],
          "name": "stdout"
        }
      ]
    },
    {
      "cell_type": "code",
      "metadata": {
        "colab": {
          "base_uri": "https://localhost:8080/",
          "height": 439
        },
        "id": "awEH6HidA8lF",
        "outputId": "bb7c6e09-36f9-4e6f-ca8f-a425d2c8df84"
      },
      "source": [
        "dict_of_df = {k: pd.DataFrame(v) for k,v in dict.items()}\n",
        "df = pd.concat(dict_of_df, axis=1)\n",
        "df.head()"
      ],
      "execution_count": 73,
      "outputs": [
        {
          "output_type": "execute_result",
          "data": {
            "text/html": [
              "<div>\n",
              "<style scoped>\n",
              "    .dataframe tbody tr th:only-of-type {\n",
              "        vertical-align: middle;\n",
              "    }\n",
              "\n",
              "    .dataframe tbody tr th {\n",
              "        vertical-align: top;\n",
              "    }\n",
              "\n",
              "    .dataframe thead tr th {\n",
              "        text-align: left;\n",
              "    }\n",
              "</style>\n",
              "<table border=\"1\" class=\"dataframe\">\n",
              "  <thead>\n",
              "    <tr>\n",
              "      <th></th>\n",
              "      <th colspan=\"5\" halign=\"left\">the_dark_knight</th>\n",
              "      <th colspan=\"5\" halign=\"left\">soul_2020</th>\n",
              "    </tr>\n",
              "    <tr>\n",
              "      <th></th>\n",
              "      <th>0</th>\n",
              "      <th>1</th>\n",
              "      <th>2</th>\n",
              "      <th>3</th>\n",
              "      <th>4</th>\n",
              "      <th>0</th>\n",
              "      <th>1</th>\n",
              "      <th>2</th>\n",
              "      <th>3</th>\n",
              "      <th>4</th>\n",
              "    </tr>\n",
              "  </thead>\n",
              "  <tbody>\n",
              "    <tr>\n",
              "      <th>0</th>\n",
              "      <td>This may seem like faint praise, but about the...</td>\n",
              "      <td>December 13, 2017 | Full Review…</td>\n",
              "      <td>Glenn Kenny</td>\n",
              "      <td>MUBI</td>\n",
              "      <td>TOP CRITIC</td>\n",
              "      <td>Far from teaching children to follow their dre...</td>\n",
              "      <td>December 21, 2020 | Full Review…</td>\n",
              "      <td>Richard Brody</td>\n",
              "      <td>New Yorker</td>\n",
              "      <td>TOP CRITIC</td>\n",
              "    </tr>\n",
              "    <tr>\n",
              "      <th>1</th>\n",
              "      <td>Too much psychology and not enough pop. It's p...</td>\n",
              "      <td>June 2, 2017 | Full Review…</td>\n",
              "      <td>Ryan Gilbey</td>\n",
              "      <td>New Statesman</td>\n",
              "      <td>TOP CRITIC</td>\n",
              "      <td>Like the best Pixar films, \"Soul\" isn't just f...</td>\n",
              "      <td>December 20, 2020 | Rating: 4/5 | Full Review…</td>\n",
              "      <td>Bill Goodykoontz</td>\n",
              "      <td>Arizona Republic</td>\n",
              "      <td>TOP CRITIC</td>\n",
              "    </tr>\n",
              "    <tr>\n",
              "      <th>2</th>\n",
              "      <td>You will feel utterly numb after the screening...</td>\n",
              "      <td>May 31, 2017 | Full Review…</td>\n",
              "      <td>James Christopher</td>\n",
              "      <td>Times (UK)</td>\n",
              "      <td>TOP CRITIC</td>\n",
              "      <td>Arrives at some numbingly complex - and maybe ...</td>\n",
              "      <td>December 19, 2020 | Rating: 2.5/4 | Full Review…</td>\n",
              "      <td>Ann Hornaday</td>\n",
              "      <td>Washington Post</td>\n",
              "      <td>TOP CRITIC</td>\n",
              "    </tr>\n",
              "    <tr>\n",
              "      <th>3</th>\n",
              "      <td>This is an impressive film in many ways, and N...</td>\n",
              "      <td>August 20, 2014 | Full Review…</td>\n",
              "      <td>Jonathan Romney</td>\n",
              "      <td>Independent on Sunday</td>\n",
              "      <td>TOP CRITIC</td>\n",
              "      <td>Pixar's first feature with a predominantly Bla...</td>\n",
              "      <td>December 18, 2020 | Full Review…</td>\n",
              "      <td>Peter Travers</td>\n",
              "      <td>ABC News</td>\n",
              "      <td>TOP CRITIC</td>\n",
              "    </tr>\n",
              "    <tr>\n",
              "      <th>4</th>\n",
              "      <td>Among the great strengths of The Dark Knight i...</td>\n",
              "      <td>August 20, 2014 | Full Review…</td>\n",
              "      <td>Geoffrey Macnab</td>\n",
              "      <td>Independent (UK)</td>\n",
              "      <td>TOP CRITIC</td>\n",
              "      <td>Soul is marvellous on many fronts.</td>\n",
              "      <td>December 18, 2020 | Rating: 3/4 | Full Review…</td>\n",
              "      <td>Aparita Bhandari</td>\n",
              "      <td>Globe and Mail</td>\n",
              "      <td>TOP CRITIC</td>\n",
              "    </tr>\n",
              "  </tbody>\n",
              "</table>\n",
              "</div>"
            ],
            "text/plain": [
              "                                     the_dark_knight  ...   soul_2020\n",
              "                                                   0  ...           4\n",
              "0  This may seem like faint praise, but about the...  ...  TOP CRITIC\n",
              "1  Too much psychology and not enough pop. It's p...  ...  TOP CRITIC\n",
              "2  You will feel utterly numb after the screening...  ...  TOP CRITIC\n",
              "3  This is an impressive film in many ways, and N...  ...  TOP CRITIC\n",
              "4  Among the great strengths of The Dark Knight i...  ...  TOP CRITIC\n",
              "\n",
              "[5 rows x 10 columns]"
            ]
          },
          "metadata": {
            "tags": []
          },
          "execution_count": 73
        }
      ]
    },
    {
      "cell_type": "code",
      "metadata": {
        "colab": {
          "base_uri": "https://localhost:8080/",
          "height": 561
        },
        "id": "D9qltSXJA8nt",
        "outputId": "17fa43cb-7943-46ee-ffb1-b2bc46081caf"
      },
      "source": [
        "for i in range(len(my_list)):\n",
        " del df[my_list[i]][4]\n",
        " df[my_list[i]][1] = df[my_list[i]][1].apply(lambda s: s.split('|',1)[0])\n",
        "df.head()"
      ],
      "execution_count": 74,
      "outputs": [
        {
          "output_type": "stream",
          "text": [
            "/usr/local/lib/python3.6/dist-packages/ipykernel_launcher.py:3: SettingWithCopyWarning: \n",
            "A value is trying to be set on a copy of a slice from a DataFrame.\n",
            "Try using .loc[row_indexer,col_indexer] = value instead\n",
            "\n",
            "See the caveats in the documentation: https://pandas.pydata.org/pandas-docs/stable/user_guide/indexing.html#returning-a-view-versus-a-copy\n",
            "  This is separate from the ipykernel package so we can avoid doing imports until\n"
          ],
          "name": "stderr"
        },
        {
          "output_type": "execute_result",
          "data": {
            "text/html": [
              "<div>\n",
              "<style scoped>\n",
              "    .dataframe tbody tr th:only-of-type {\n",
              "        vertical-align: middle;\n",
              "    }\n",
              "\n",
              "    .dataframe tbody tr th {\n",
              "        vertical-align: top;\n",
              "    }\n",
              "\n",
              "    .dataframe thead tr th {\n",
              "        text-align: left;\n",
              "    }\n",
              "</style>\n",
              "<table border=\"1\" class=\"dataframe\">\n",
              "  <thead>\n",
              "    <tr>\n",
              "      <th></th>\n",
              "      <th colspan=\"5\" halign=\"left\">the_dark_knight</th>\n",
              "      <th colspan=\"5\" halign=\"left\">soul_2020</th>\n",
              "    </tr>\n",
              "    <tr>\n",
              "      <th></th>\n",
              "      <th>0</th>\n",
              "      <th>1</th>\n",
              "      <th>2</th>\n",
              "      <th>3</th>\n",
              "      <th>4</th>\n",
              "      <th>0</th>\n",
              "      <th>1</th>\n",
              "      <th>2</th>\n",
              "      <th>3</th>\n",
              "      <th>4</th>\n",
              "    </tr>\n",
              "  </thead>\n",
              "  <tbody>\n",
              "    <tr>\n",
              "      <th>0</th>\n",
              "      <td>This may seem like faint praise, but about the...</td>\n",
              "      <td>December 13, 2017 | Full Review…</td>\n",
              "      <td>Glenn Kenny</td>\n",
              "      <td>MUBI</td>\n",
              "      <td>TOP CRITIC</td>\n",
              "      <td>Far from teaching children to follow their dre...</td>\n",
              "      <td>December 21, 2020 | Full Review…</td>\n",
              "      <td>Richard Brody</td>\n",
              "      <td>New Yorker</td>\n",
              "      <td>TOP CRITIC</td>\n",
              "    </tr>\n",
              "    <tr>\n",
              "      <th>1</th>\n",
              "      <td>Too much psychology and not enough pop. It's p...</td>\n",
              "      <td>June 2, 2017 | Full Review…</td>\n",
              "      <td>Ryan Gilbey</td>\n",
              "      <td>New Statesman</td>\n",
              "      <td>TOP CRITIC</td>\n",
              "      <td>Like the best Pixar films, \"Soul\" isn't just f...</td>\n",
              "      <td>December 20, 2020 | Rating: 4/5 | Full Review…</td>\n",
              "      <td>Bill Goodykoontz</td>\n",
              "      <td>Arizona Republic</td>\n",
              "      <td>TOP CRITIC</td>\n",
              "    </tr>\n",
              "    <tr>\n",
              "      <th>2</th>\n",
              "      <td>You will feel utterly numb after the screening...</td>\n",
              "      <td>May 31, 2017 | Full Review…</td>\n",
              "      <td>James Christopher</td>\n",
              "      <td>Times (UK)</td>\n",
              "      <td>TOP CRITIC</td>\n",
              "      <td>Arrives at some numbingly complex - and maybe ...</td>\n",
              "      <td>December 19, 2020 | Rating: 2.5/4 | Full Review…</td>\n",
              "      <td>Ann Hornaday</td>\n",
              "      <td>Washington Post</td>\n",
              "      <td>TOP CRITIC</td>\n",
              "    </tr>\n",
              "    <tr>\n",
              "      <th>3</th>\n",
              "      <td>This is an impressive film in many ways, and N...</td>\n",
              "      <td>August 20, 2014 | Full Review…</td>\n",
              "      <td>Jonathan Romney</td>\n",
              "      <td>Independent on Sunday</td>\n",
              "      <td>TOP CRITIC</td>\n",
              "      <td>Pixar's first feature with a predominantly Bla...</td>\n",
              "      <td>December 18, 2020 | Full Review…</td>\n",
              "      <td>Peter Travers</td>\n",
              "      <td>ABC News</td>\n",
              "      <td>TOP CRITIC</td>\n",
              "    </tr>\n",
              "    <tr>\n",
              "      <th>4</th>\n",
              "      <td>Among the great strengths of The Dark Knight i...</td>\n",
              "      <td>August 20, 2014 | Full Review…</td>\n",
              "      <td>Geoffrey Macnab</td>\n",
              "      <td>Independent (UK)</td>\n",
              "      <td>TOP CRITIC</td>\n",
              "      <td>Soul is marvellous on many fronts.</td>\n",
              "      <td>December 18, 2020 | Rating: 3/4 | Full Review…</td>\n",
              "      <td>Aparita Bhandari</td>\n",
              "      <td>Globe and Mail</td>\n",
              "      <td>TOP CRITIC</td>\n",
              "    </tr>\n",
              "  </tbody>\n",
              "</table>\n",
              "</div>"
            ],
            "text/plain": [
              "                                     the_dark_knight  ...   soul_2020\n",
              "                                                   0  ...           4\n",
              "0  This may seem like faint praise, but about the...  ...  TOP CRITIC\n",
              "1  Too much psychology and not enough pop. It's p...  ...  TOP CRITIC\n",
              "2  You will feel utterly numb after the screening...  ...  TOP CRITIC\n",
              "3  This is an impressive film in many ways, and N...  ...  TOP CRITIC\n",
              "4  Among the great strengths of The Dark Knight i...  ...  TOP CRITIC\n",
              "\n",
              "[5 rows x 10 columns]"
            ]
          },
          "metadata": {
            "tags": []
          },
          "execution_count": 74
        }
      ]
    },
    {
      "cell_type": "code",
      "metadata": {
        "colab": {
          "base_uri": "https://localhost:8080/"
        },
        "id": "w558zi5FA8qc",
        "outputId": "2f93dec0-e244-40ef-89a2-45437594729d"
      },
      "source": [
        "df[my_list[0]][3]"
      ],
      "execution_count": 71,
      "outputs": [
        {
          "output_type": "execute_result",
          "data": {
            "text/plain": [
              "0                     MUBI\n",
              "1            New Statesman\n",
              "2               Times (UK)\n",
              "3    Independent on Sunday\n",
              "4         Independent (UK)\n",
              "5        Little White Lies\n",
              "Name: 3, dtype: object"
            ]
          },
          "metadata": {
            "tags": []
          },
          "execution_count": 71
        }
      ]
    },
    {
      "cell_type": "code",
      "metadata": {
        "id": "TzH4q8c5A8sl"
      },
      "source": [
        ""
      ],
      "execution_count": null,
      "outputs": []
    },
    {
      "cell_type": "code",
      "metadata": {
        "colab": {
          "base_uri": "https://localhost:8080/",
          "height": 111
        },
        "id": "d6NXlqxA-wng",
        "outputId": "8c4ede10-1bf2-4f59-d42b-644f87fbab59"
      },
      "source": [
        "review = pd.DataFrame(list (dict.items()),columns=('Movie','Critic_review'))\n",
        "review"
      ],
      "execution_count": 38,
      "outputs": [
        {
          "output_type": "execute_result",
          "data": {
            "text/html": [
              "<div>\n",
              "<style scoped>\n",
              "    .dataframe tbody tr th:only-of-type {\n",
              "        vertical-align: middle;\n",
              "    }\n",
              "\n",
              "    .dataframe tbody tr th {\n",
              "        vertical-align: top;\n",
              "    }\n",
              "\n",
              "    .dataframe thead th {\n",
              "        text-align: right;\n",
              "    }\n",
              "</style>\n",
              "<table border=\"1\" class=\"dataframe\">\n",
              "  <thead>\n",
              "    <tr style=\"text-align: right;\">\n",
              "      <th></th>\n",
              "      <th>Movie</th>\n",
              "      <th>Critic_review</th>\n",
              "    </tr>\n",
              "  </thead>\n",
              "  <tbody>\n",
              "    <tr>\n",
              "      <th>0</th>\n",
              "      <td>the_dark_knight</td>\n",
              "      <td>[[This may seem like faint praise, but about t...</td>\n",
              "    </tr>\n",
              "    <tr>\n",
              "      <th>1</th>\n",
              "      <td>soul_2020</td>\n",
              "      <td>[[Far from teaching children to follow their d...</td>\n",
              "    </tr>\n",
              "  </tbody>\n",
              "</table>\n",
              "</div>"
            ],
            "text/plain": [
              "             Movie                                      Critic_review\n",
              "0  the_dark_knight  [[This may seem like faint praise, but about t...\n",
              "1        soul_2020  [[Far from teaching children to follow their d..."
            ]
          },
          "metadata": {
            "tags": []
          },
          "execution_count": 38
        }
      ]
    },
    {
      "cell_type": "code",
      "metadata": {
        "colab": {
          "base_uri": "https://localhost:8080/"
        },
        "id": "JoUJo83c-wqX",
        "outputId": "e94eee02-954d-47a0-d3b2-7d0ccaa74167"
      },
      "source": [
        "review['Critic_review']"
      ],
      "execution_count": 39,
      "outputs": [
        {
          "output_type": "execute_result",
          "data": {
            "text/plain": [
              "0    [[This may seem like faint praise, but about t...\n",
              "1    [[Far from teaching children to follow their d...\n",
              "Name: Critic_review, dtype: object"
            ]
          },
          "metadata": {
            "tags": []
          },
          "execution_count": 39
        }
      ]
    },
    {
      "cell_type": "code",
      "metadata": {
        "id": "sermghn1KJUy"
      },
      "source": [
        "# copy = pd.DataFrame()\n",
        "# for i in range(len(Movie_Info_List)):\n",
        "#    MovieInfo = pd.DataFrame({'Title': list (Movie_Info_List[i])})\n",
        "#    MovieInfo['Info'] = MovieInfo['Title'].apply(lambda s: s.split(':',1)[0])\n",
        "#    MovieInfo['Description'] = MovieInfo['Title'].apply(lambda s: s.split(':',1)[1])\n",
        "#    del MovieInfo['Title']\n",
        "#    trans = MovieInfo.set_index('Info').transpose()\n",
        "#    trans = trans.append(copy, sort=False)\n",
        "#    copy = trans"
      ],
      "execution_count": 40,
      "outputs": []
    },
    {
      "cell_type": "code",
      "metadata": {
        "id": "-qKwODkvtZ66"
      },
      "source": [
        "# trans.insert(0,'Movie',result)"
      ],
      "execution_count": 41,
      "outputs": []
    },
    {
      "cell_type": "code",
      "metadata": {
        "id": "JIrRE9AMbfYo"
      },
      "source": [
        "# trans.to_csv(\"Movie.csv\",index= False)"
      ],
      "execution_count": 42,
      "outputs": []
    },
    {
      "cell_type": "code",
      "metadata": {
        "id": "Uj74HQMDQ3yc"
      },
      "source": [
        ""
      ],
      "execution_count": 42,
      "outputs": []
    }
  ]
}