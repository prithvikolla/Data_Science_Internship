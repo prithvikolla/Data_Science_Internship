{
  "nbformat": 4,
  "nbformat_minor": 0,
  "metadata": {
    "colab": {
      "name": "Internship_TopCritics.ipynb",
      "provenance": [],
      "collapsed_sections": []
    },
    "kernelspec": {
      "name": "python3",
      "display_name": "Python 3"
    }
  },
  "cells": [
    {
      "cell_type": "code",
      "metadata": {
        "colab": {
          "base_uri": "https://localhost:8080/"
        },
        "id": "RuoJdAjKMKQW",
        "outputId": "c97dabe9-b123-4e27-9cea-84b8dc7d4141"
      },
      "source": [
        "# install chromium, its driver, and selenium\n",
        "!apt update\n",
        "!apt install chromium-chromedriver\n",
        "!pip install selenium\n",
        "# set options to be headless, ..\n",
        "from selenium import webdriver\n",
        "options = webdriver.ChromeOptions()\n",
        "options.add_argument('--headless')\n",
        "options.add_argument('--no-sandbox')\n",
        "options.add_argument('--disable-dev-shm-usage')\n",
        "# open it, go to a website, and get results\n",
        "driver = webdriver.Chrome('chromedriver',options=options)\n",
        "import pandas as pd\n"
      ],
      "execution_count": 1,
      "outputs": [
        {
          "output_type": "stream",
          "text": [
            "\u001b[33m\r0% [Working]\u001b[0m\r            \rGet:1 http://security.ubuntu.com/ubuntu bionic-security InRelease [88.7 kB]\n",
            "Ign:2 https://developer.download.nvidia.com/compute/cuda/repos/ubuntu1804/x86_64  InRelease\n",
            "Get:3 https://cloud.r-project.org/bin/linux/ubuntu bionic-cran40/ InRelease [3,626 B]\n",
            "Ign:4 https://developer.download.nvidia.com/compute/machine-learning/repos/ubuntu1804/x86_64  InRelease\n",
            "Get:5 https://developer.download.nvidia.com/compute/cuda/repos/ubuntu1804/x86_64  Release [697 B]\n",
            "Hit:6 http://archive.ubuntu.com/ubuntu bionic InRelease\n",
            "Get:7 https://developer.download.nvidia.com/compute/machine-learning/repos/ubuntu1804/x86_64  Release [564 B]\n",
            "Get:8 https://developer.download.nvidia.com/compute/cuda/repos/ubuntu1804/x86_64  Release.gpg [836 B]\n",
            "Get:9 https://developer.download.nvidia.com/compute/machine-learning/repos/ubuntu1804/x86_64  Release.gpg [833 B]\n",
            "Get:10 http://ppa.launchpad.net/c2d4u.team/c2d4u4.0+/ubuntu bionic InRelease [15.9 kB]\n",
            "Get:11 http://archive.ubuntu.com/ubuntu bionic-updates InRelease [88.7 kB]\n",
            "Get:12 http://security.ubuntu.com/ubuntu bionic-security/multiverse amd64 Packages [15.3 kB]\n",
            "Get:13 http://security.ubuntu.com/ubuntu bionic-security/main amd64 Packages [1,816 kB]\n",
            "Get:14 http://ppa.launchpad.net/graphics-drivers/ppa/ubuntu bionic InRelease [21.3 kB]\n",
            "Get:15 http://archive.ubuntu.com/ubuntu bionic-backports InRelease [74.6 kB]\n",
            "Get:16 http://security.ubuntu.com/ubuntu bionic-security/restricted amd64 Packages [237 kB]\n",
            "Get:17 http://security.ubuntu.com/ubuntu bionic-security/universe amd64 Packages [1,372 kB]\n",
            "Get:18 https://cloud.r-project.org/bin/linux/ubuntu bionic-cran40/ Packages [40.7 kB]\n",
            "Ign:19 https://developer.download.nvidia.com/compute/cuda/repos/ubuntu1804/x86_64  Packages\n",
            "Get:19 https://developer.download.nvidia.com/compute/cuda/repos/ubuntu1804/x86_64  Packages [506 kB]\n",
            "Get:20 https://developer.download.nvidia.com/compute/machine-learning/repos/ubuntu1804/x86_64  Packages [66.1 kB]\n",
            "Get:21 http://ppa.launchpad.net/c2d4u.team/c2d4u4.0+/ubuntu bionic/main Sources [1,700 kB]\n",
            "Get:22 http://archive.ubuntu.com/ubuntu bionic-updates/restricted amd64 Packages [266 kB]\n",
            "Get:23 http://archive.ubuntu.com/ubuntu bionic-updates/universe amd64 Packages [2,136 kB]\n",
            "Get:24 http://archive.ubuntu.com/ubuntu bionic-updates/main amd64 Packages [2,244 kB]\n",
            "Get:25 http://archive.ubuntu.com/ubuntu bionic-updates/multiverse amd64 Packages [53.8 kB]\n",
            "Get:26 http://ppa.launchpad.net/c2d4u.team/c2d4u4.0+/ubuntu bionic/main amd64 Packages [870 kB]\n",
            "Get:27 http://ppa.launchpad.net/graphics-drivers/ppa/ubuntu bionic/main amd64 Packages [46.5 kB]\n",
            "Fetched 11.7 MB in 3s (3,467 kB/s)\n",
            "Reading package lists... Done\n",
            "Building dependency tree       \n",
            "Reading state information... Done\n",
            "59 packages can be upgraded. Run 'apt list --upgradable' to see them.\n",
            "Reading package lists... Done\n",
            "Building dependency tree       \n",
            "Reading state information... Done\n",
            "The following additional packages will be installed:\n",
            "  chromium-browser chromium-browser-l10n chromium-codecs-ffmpeg-extra\n",
            "Suggested packages:\n",
            "  webaccounts-chromium-extension unity-chromium-extension adobe-flashplugin\n",
            "The following NEW packages will be installed:\n",
            "  chromium-browser chromium-browser-l10n chromium-chromedriver\n",
            "  chromium-codecs-ffmpeg-extra\n",
            "0 upgraded, 4 newly installed, 0 to remove and 59 not upgraded.\n",
            "Need to get 81.0 MB of archives.\n",
            "After this operation, 273 MB of additional disk space will be used.\n",
            "Get:1 http://archive.ubuntu.com/ubuntu bionic-updates/universe amd64 chromium-codecs-ffmpeg-extra amd64 87.0.4280.66-0ubuntu0.18.04.1 [1,122 kB]\n",
            "Get:2 http://archive.ubuntu.com/ubuntu bionic-updates/universe amd64 chromium-browser amd64 87.0.4280.66-0ubuntu0.18.04.1 [71.7 MB]\n",
            "Get:3 http://archive.ubuntu.com/ubuntu bionic-updates/universe amd64 chromium-browser-l10n all 87.0.4280.66-0ubuntu0.18.04.1 [3,716 kB]\n",
            "Get:4 http://archive.ubuntu.com/ubuntu bionic-updates/universe amd64 chromium-chromedriver amd64 87.0.4280.66-0ubuntu0.18.04.1 [4,488 kB]\n",
            "Fetched 81.0 MB in 3s (24.1 MB/s)\n",
            "Selecting previously unselected package chromium-codecs-ffmpeg-extra.\n",
            "(Reading database ... 144865 files and directories currently installed.)\n",
            "Preparing to unpack .../chromium-codecs-ffmpeg-extra_87.0.4280.66-0ubuntu0.18.04.1_amd64.deb ...\n",
            "Unpacking chromium-codecs-ffmpeg-extra (87.0.4280.66-0ubuntu0.18.04.1) ...\n",
            "Selecting previously unselected package chromium-browser.\n",
            "Preparing to unpack .../chromium-browser_87.0.4280.66-0ubuntu0.18.04.1_amd64.deb ...\n",
            "Unpacking chromium-browser (87.0.4280.66-0ubuntu0.18.04.1) ...\n",
            "Selecting previously unselected package chromium-browser-l10n.\n",
            "Preparing to unpack .../chromium-browser-l10n_87.0.4280.66-0ubuntu0.18.04.1_all.deb ...\n",
            "Unpacking chromium-browser-l10n (87.0.4280.66-0ubuntu0.18.04.1) ...\n",
            "Selecting previously unselected package chromium-chromedriver.\n",
            "Preparing to unpack .../chromium-chromedriver_87.0.4280.66-0ubuntu0.18.04.1_amd64.deb ...\n",
            "Unpacking chromium-chromedriver (87.0.4280.66-0ubuntu0.18.04.1) ...\n",
            "Setting up chromium-codecs-ffmpeg-extra (87.0.4280.66-0ubuntu0.18.04.1) ...\n",
            "Setting up chromium-browser (87.0.4280.66-0ubuntu0.18.04.1) ...\n",
            "update-alternatives: using /usr/bin/chromium-browser to provide /usr/bin/x-www-browser (x-www-browser) in auto mode\n",
            "update-alternatives: using /usr/bin/chromium-browser to provide /usr/bin/gnome-www-browser (gnome-www-browser) in auto mode\n",
            "Setting up chromium-chromedriver (87.0.4280.66-0ubuntu0.18.04.1) ...\n",
            "Setting up chromium-browser-l10n (87.0.4280.66-0ubuntu0.18.04.1) ...\n",
            "Processing triggers for hicolor-icon-theme (0.17-2) ...\n",
            "Processing triggers for mime-support (3.60ubuntu1) ...\n",
            "Processing triggers for man-db (2.8.3-2ubuntu0.1) ...\n",
            "Collecting selenium\n",
            "\u001b[?25l  Downloading https://files.pythonhosted.org/packages/80/d6/4294f0b4bce4de0abf13e17190289f9d0613b0a44e5dd6a7f5ca98459853/selenium-3.141.0-py2.py3-none-any.whl (904kB)\n",
            "\u001b[K     |████████████████████████████████| 911kB 5.9MB/s \n",
            "\u001b[?25hRequirement already satisfied: urllib3 in /usr/local/lib/python3.6/dist-packages (from selenium) (1.24.3)\n",
            "Installing collected packages: selenium\n",
            "Successfully installed selenium-3.141.0\n"
          ],
          "name": "stdout"
        }
      ]
    },
    {
      "cell_type": "code",
      "metadata": {
        "colab": {
          "base_uri": "https://localhost:8080/"
        },
        "id": "ov_aWFnN7N8i",
        "outputId": "e0154f94-a904-49d8-e151-b9952af1e222"
      },
      "source": [
        "def Movie(searchterm):\n",
        " webpage = \"https://www.rottentomatoes.com/m/{}\".format(searchterm)\n",
        " driver.get(webpage)\n",
        " elem = driver.find_element_by_id('reviews')\n",
        " all_li = elem.find_elements_by_css_selector('.top_critic')\n",
        " Top_critic = [ ]\n",
        " for li in all_li:\n",
        "    text = li.text\n",
        "    Top_critic.append(text)\n",
        " return Top_critic\n",
        "\n",
        "Movie_Top_critic = [ ]\n",
        "Question1 = input( \"Search Movie Information: Y or N: \")\n",
        "if Question1.lower() == 'y': \n",
        " i = 0\n",
        " n = int (input( \"How many movies do you want to search?: \"))\n",
        " if n > 1:\n",
        "  print('Give all the '+ str (n) +' Movie Names:')\n",
        "  my_list = [] \n",
        "  while (i<n): \n",
        "        my_list.append(str (input())) \n",
        "        i= i+1\n",
        "  my_list = [s.lower() for s in my_list]\n",
        "  my_list = [s.replace(' ','_') if (len(s.split()) > 1) else s for s in my_list ]\n",
        "  for j in my_list:\n",
        "   Movie_Top_critic.append(Movie(j))\n",
        " else:\n",
        "    searchterm = input(\"Enter the Movie Name: \")\n",
        "    searchterm = searchterm.lower()\n",
        "    if (len(searchterm.split()) > 1):\n",
        "     searchterm = searchterm.replace(' ','_')\n",
        "    print(searchterm)\n",
        "    Movie_Top_critic.append(Movie(searchterm))\n",
        "else:\n",
        "  print('Thank you.')\n",
        "\n",
        "result = my_list.reverse()\n",
        "result"
      ],
      "execution_count": 33,
      "outputs": [
        {
          "output_type": "stream",
          "text": [
            "Search Movie Information: Y or N: y\n",
            "How many movies do you want to search?: 2\n",
            "Give all the 2 Movie Names:\n",
            "the dark knight\n",
            "soul 2020\n"
          ],
          "name": "stdout"
        }
      ]
    },
    {
      "cell_type": "code",
      "metadata": {
        "colab": {
          "base_uri": "https://localhost:8080/"
        },
        "id": "951r0DEo_qW3",
        "outputId": "9c344f2e-848a-44e3-a395-ddf04f41fbdf"
      },
      "source": [
        "Movie_Top_critic"
      ],
      "execution_count": 34,
      "outputs": [
        {
          "output_type": "execute_result",
          "data": {
            "text/plain": [
              "[[\"This may seem like faint praise, but about the highest compliment I can give Christopher Nolan's The Dark Knight right now is to say that there were many long stretches during which I didn't even realize it was a superhero movie\\nDecember 13, 2017 | Full Review…\\nGlenn Kenny\\nMUBI\\nTOP CRITIC\",\n",
              "  \"Too much psychology and not enough pop. It's possible to be too serious, you know.\\nJune 2, 2017 | Full Review…\\nRyan Gilbey\\nNew Statesman\\nTOP CRITIC\",\n",
              "  'You will feel utterly numb after the screening of The Dark Knight. The film is bleak and brilliant.\\nMay 31, 2017 | Full Review…\\nJames Christopher\\nTimes (UK)\\nTOP CRITIC',\n",
              "  'This is an impressive film in many ways, and Nolan directs with real confidence, yet the overall result feels cumbersome.\\nAugust 20, 2014 | Full Review…\\nJonathan Romney\\nIndependent on Sunday\\nTOP CRITIC',\n",
              "  'Among the great strengths of The Dark Knight is the way it combines hardboiled naturalism with the kind of stunts and setpieces you expect in summer blockbusters.\\nAugust 20, 2014 | Full Review…\\nGeoffrey Macnab\\nIndependent (UK)\\nTOP CRITIC',\n",
              "  \"To talk of Heath Ledger's performance is difficult, merely because, as gigantic as it is, it is only one important feature of an intricately wrought canvas.\\nAugust 20, 2014 | Full Review…\\nTiru Thiruvilangam\\nLittle White Lies\\nTOP CRITIC\"],\n",
              " ['Arrives at some numbingly complex - and maybe not entirely consistent - answers, but generates some fun, and genuine beauty, along the way.\\nDecember 19, 2020 | Rating: 2.5/4 | Full Review…\\nAnn Hornaday\\nWashington Post\\nTOP CRITIC',\n",
              "  \"Pixar's first feature with a predominantly Black cast and a Black lead actor (the superb Jamie Foxx) contemplates the origins of jazz and the meaning of life and death. Don't fret the metaphysics, kids, It's the year's peak achievement in animation.\\nDecember 18, 2020 | Full Review…\\nPeter Travers\\nABC News\\nTOP CRITIC\",\n",
              "  'Soul is marvellous on many fronts.\\nDecember 18, 2020 | Rating: 3/4 | Full Review…\\nAparita Bhandari\\nGlobe and Mail\\nTOP CRITIC',\n",
              "  '[Soul is] pleasant and clever, with a generous heart, committed voice acting, and some of the kookiest images in Pixar history.\\nDecember 17, 2020 | Rating: 3/4 | Full Review…\\nMatt Zoller Seitz\\nRogerEbert.com\\nTOP CRITIC',\n",
              "  'Despite some distraction and not quite enough music, Soul manages to tap into deep emotion as its characters explore the limits of mortality and what it means to be passionate about life.\\nDecember 16, 2020 | Full Review…\\nSonia Saraiya\\nVanity Fair\\nTOP CRITIC',\n",
              "  'Soul feels, in the end, like a worthwhile Pixar experiment.\\nDecember 14, 2020 | Full Review…\\nDan Kois\\nSlate\\nTOP CRITIC']]"
            ]
          },
          "metadata": {
            "tags": []
          },
          "execution_count": 34
        }
      ]
    },
    {
      "cell_type": "code",
      "metadata": {
        "id": "ko-Jrtvd-wjC"
      },
      "source": [
        "reviews = pd.DataFrame({'Reviews_Noise':list (Movie_Top_critic)})"
      ],
      "execution_count": 37,
      "outputs": []
    },
    {
      "cell_type": "code",
      "metadata": {
        "colab": {
          "base_uri": "https://localhost:8080/",
          "height": 111
        },
        "id": "QhLMzP-F-wlf",
        "outputId": "d4b40fd9-b824-4ac7-c845-182b54cec9d7"
      },
      "source": [
        "reviews"
      ],
      "execution_count": 38,
      "outputs": [
        {
          "output_type": "execute_result",
          "data": {
            "text/html": [
              "<div>\n",
              "<style scoped>\n",
              "    .dataframe tbody tr th:only-of-type {\n",
              "        vertical-align: middle;\n",
              "    }\n",
              "\n",
              "    .dataframe tbody tr th {\n",
              "        vertical-align: top;\n",
              "    }\n",
              "\n",
              "    .dataframe thead th {\n",
              "        text-align: right;\n",
              "    }\n",
              "</style>\n",
              "<table border=\"1\" class=\"dataframe\">\n",
              "  <thead>\n",
              "    <tr style=\"text-align: right;\">\n",
              "      <th></th>\n",
              "      <th>Reviews_Noise</th>\n",
              "    </tr>\n",
              "  </thead>\n",
              "  <tbody>\n",
              "    <tr>\n",
              "      <th>0</th>\n",
              "      <td>[This may seem like faint praise, but about th...</td>\n",
              "    </tr>\n",
              "    <tr>\n",
              "      <th>1</th>\n",
              "      <td>[Arrives at some numbingly complex - and maybe...</td>\n",
              "    </tr>\n",
              "  </tbody>\n",
              "</table>\n",
              "</div>"
            ],
            "text/plain": [
              "                                       Reviews_Noise\n",
              "0  [This may seem like faint praise, but about th...\n",
              "1  [Arrives at some numbingly complex - and maybe..."
            ]
          },
          "metadata": {
            "tags": []
          },
          "execution_count": 38
        }
      ]
    },
    {
      "cell_type": "code",
      "metadata": {
        "id": "d6NXlqxA-wng"
      },
      "source": [
        ""
      ],
      "execution_count": null,
      "outputs": []
    },
    {
      "cell_type": "code",
      "metadata": {
        "id": "JoUJo83c-wqX"
      },
      "source": [
        ""
      ],
      "execution_count": null,
      "outputs": []
    },
    {
      "cell_type": "code",
      "metadata": {
        "id": "sermghn1KJUy"
      },
      "source": [
        "# copy = pd.DataFrame()\n",
        "# for i in range(len(Movie_Info_List)):\n",
        "#    MovieInfo = pd.DataFrame({'Title': list (Movie_Info_List[i])})\n",
        "#    MovieInfo['Info'] = MovieInfo['Title'].apply(lambda s: s.split(':',1)[0])\n",
        "#    MovieInfo['Description'] = MovieInfo['Title'].apply(lambda s: s.split(':',1)[1])\n",
        "#    del MovieInfo['Title']\n",
        "#    trans = MovieInfo.set_index('Info').transpose()\n",
        "#    trans = trans.append(copy, sort=False)\n",
        "#    copy = trans"
      ],
      "execution_count": 8,
      "outputs": []
    },
    {
      "cell_type": "code",
      "metadata": {
        "id": "-qKwODkvtZ66"
      },
      "source": [
        "# trans.insert(0,'Movie',result)"
      ],
      "execution_count": 9,
      "outputs": []
    },
    {
      "cell_type": "code",
      "metadata": {
        "id": "JIrRE9AMbfYo"
      },
      "source": [
        "# trans.to_csv(\"Movie.csv\",index= False)"
      ],
      "execution_count": 10,
      "outputs": []
    },
    {
      "cell_type": "code",
      "metadata": {
        "id": "Uj74HQMDQ3yc"
      },
      "source": [
        ""
      ],
      "execution_count": 7,
      "outputs": []
    }
  ]
}